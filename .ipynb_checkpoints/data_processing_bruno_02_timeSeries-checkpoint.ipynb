{
 "cells": [
  {
   "cell_type": "code",
   "execution_count": 1,
   "id": "93d71640",
   "metadata": {},
   "outputs": [],
   "source": [
    "# Useful starting lines\n",
    "%matplotlib inline\n",
    "import numpy as np\n",
    "import matplotlib.pyplot as plt\n",
    "import pandas as pd\n",
    "import seaborn as sns\n",
    "import torch\n",
    "\n",
    "%load_ext autoreload\n",
    "%autoreload 2\n",
    "\n",
    "sns.set()"
   ]
  },
  {
   "cell_type": "code",
   "execution_count": 2,
   "id": "62b57ad1",
   "metadata": {},
   "outputs": [],
   "source": [
    "parquet_file = 'TCV_LHD_db4ML.parquet.part'\n",
    "df = pd.read_parquet(parquet_file, engine ='auto')"
   ]
  },
  {
   "cell_type": "code",
   "execution_count": 3,
   "id": "120fc9ea",
   "metadata": {},
   "outputs": [
    {
     "name": "stdout",
     "output_type": "stream",
     "text": [
      "     time            IP        PD           FIR   WP        LDH  pulse\n",
      "0  0.0206  30409.787109  1.816398  4.077222e+18  0.0  Ip<Ip_MIN    1.0\n",
      "1  0.0207  30882.741994  1.992211  4.092746e+18  0.0  Ip<Ip_MIN    1.0\n",
      "2  0.0208  31355.696879  2.016582  4.116485e+18  0.0  Ip<Ip_MIN    1.0\n",
      "3  0.0209  31856.508747  1.943354  4.101001e+18  0.0  Ip<Ip_MIN    1.0\n",
      "4  0.0210  32357.321558  1.860389  4.185470e+18  0.0  Ip<Ip_MIN    1.0\n",
      "----------oooo0000oooo----------\n",
      "<class 'pandas.core.frame.DataFrame'>\n",
      "RangeIndex: 2615471 entries, 0 to 2615470\n",
      "Data columns (total 7 columns):\n",
      " #   Column  Dtype   \n",
      "---  ------  -----   \n",
      " 0   time    float64 \n",
      " 1   IP      float64 \n",
      " 2   PD      float64 \n",
      " 3   FIR     float64 \n",
      " 4   WP      float64 \n",
      " 5   LDH     category\n",
      " 6   pulse   float64 \n",
      "dtypes: category(1), float64(6)\n",
      "memory usage: 122.2 MB\n",
      "None\n",
      "           time             IP         PD           FIR   WP        LDH  pulse\n",
      "0        0.0206   30409.787109   1.816398  4.077222e+18  0.0  Ip<Ip_MIN    1.0\n",
      "1        0.0207   30882.741994   1.992211  4.092746e+18  0.0  Ip<Ip_MIN    1.0\n",
      "2        0.0208   31355.696879   2.016582  4.116485e+18  0.0  Ip<Ip_MIN    1.0\n",
      "3        0.0209   31856.508747   1.943354  4.101001e+18  0.0  Ip<Ip_MIN    1.0\n",
      "4        0.0210   32357.321558   1.860389  4.185470e+18  0.0  Ip<Ip_MIN    1.0\n",
      "...         ...            ...        ...           ...  ...        ...    ...\n",
      "2615466  1.6630 -108659.484245  10.000000 -1.790255e+19  0.0          L  172.0\n",
      "2615467  1.6631  -86085.879530  10.000000 -1.880538e+19  0.0          L  172.0\n",
      "2615468  1.6632  -64787.943439  10.000000 -1.558623e+19  0.0        NaN  172.0\n",
      "2615469  1.6633  -45424.997785  10.000000 -1.626079e+19  0.0  Ip<Ip_MIN  172.0\n",
      "2615470  1.6634  -30335.058768   5.890288 -2.196298e+19  0.0  Ip<Ip_MIN  172.0\n",
      "\n",
      "[2615471 rows x 7 columns]\n"
     ]
    }
   ],
   "source": [
    "print(df.head())\n",
    "print('----------oooo0000oooo----------')\n",
    "print(df.info())\n",
    "print(df)"
   ]
  },
  {
   "cell_type": "code",
   "execution_count": 4,
   "id": "46355876",
   "metadata": {},
   "outputs": [
    {
     "data": {
      "text/html": [
       "<div>\n",
       "<style scoped>\n",
       "    .dataframe tbody tr th:only-of-type {\n",
       "        vertical-align: middle;\n",
       "    }\n",
       "\n",
       "    .dataframe tbody tr th {\n",
       "        vertical-align: top;\n",
       "    }\n",
       "\n",
       "    .dataframe thead th {\n",
       "        text-align: right;\n",
       "    }\n",
       "</style>\n",
       "<table border=\"1\" class=\"dataframe\">\n",
       "  <thead>\n",
       "    <tr style=\"text-align: right;\">\n",
       "      <th></th>\n",
       "      <th>time</th>\n",
       "      <th>IP</th>\n",
       "      <th>PD</th>\n",
       "      <th>FIR</th>\n",
       "      <th>WP</th>\n",
       "      <th>pulse</th>\n",
       "    </tr>\n",
       "  </thead>\n",
       "  <tbody>\n",
       "    <tr>\n",
       "      <th>count</th>\n",
       "      <td>2.615471e+06</td>\n",
       "      <td>2.615471e+06</td>\n",
       "      <td>2.615471e+06</td>\n",
       "      <td>2.615471e+06</td>\n",
       "      <td>2.615471e+06</td>\n",
       "      <td>2.615471e+06</td>\n",
       "    </tr>\n",
       "    <tr>\n",
       "      <th>mean</th>\n",
       "      <td>8.427632e-01</td>\n",
       "      <td>-1.670041e+05</td>\n",
       "      <td>1.905961e+00</td>\n",
       "      <td>3.054001e+19</td>\n",
       "      <td>9.269129e+03</td>\n",
       "      <td>8.747921e+01</td>\n",
       "    </tr>\n",
       "    <tr>\n",
       "      <th>std</th>\n",
       "      <td>5.341768e-01</td>\n",
       "      <td>1.460525e+05</td>\n",
       "      <td>1.537137e+00</td>\n",
       "      <td>1.550879e+19</td>\n",
       "      <td>6.557237e+03</td>\n",
       "      <td>5.027538e+01</td>\n",
       "    </tr>\n",
       "    <tr>\n",
       "      <th>min</th>\n",
       "      <td>9.800076e-03</td>\n",
       "      <td>-4.633848e+05</td>\n",
       "      <td>0.000000e+00</td>\n",
       "      <td>-6.358192e+19</td>\n",
       "      <td>-1.856671e+04</td>\n",
       "      <td>1.000000e+00</td>\n",
       "    </tr>\n",
       "    <tr>\n",
       "      <th>25%</th>\n",
       "      <td>3.960001e-01</td>\n",
       "      <td>-2.214231e+05</td>\n",
       "      <td>8.275470e-01</td>\n",
       "      <td>2.038334e+19</td>\n",
       "      <td>4.832910e+03</td>\n",
       "      <td>4.500000e+01</td>\n",
       "    </tr>\n",
       "    <tr>\n",
       "      <th>50%</th>\n",
       "      <td>7.846002e-01</td>\n",
       "      <td>-1.779653e+05</td>\n",
       "      <td>1.508994e+00</td>\n",
       "      <td>2.872705e+19</td>\n",
       "      <td>7.645989e+03</td>\n",
       "      <td>8.600000e+01</td>\n",
       "    </tr>\n",
       "    <tr>\n",
       "      <th>75%</th>\n",
       "      <td>1.236000e+00</td>\n",
       "      <td>-1.422717e+05</td>\n",
       "      <td>2.565994e+00</td>\n",
       "      <td>3.901274e+19</td>\n",
       "      <td>1.321019e+04</td>\n",
       "      <td>1.310000e+02</td>\n",
       "    </tr>\n",
       "    <tr>\n",
       "      <th>max</th>\n",
       "      <td>2.575000e+00</td>\n",
       "      <td>5.219116e+05</td>\n",
       "      <td>1.000000e+01</td>\n",
       "      <td>1.196714e+20</td>\n",
       "      <td>4.367435e+04</td>\n",
       "      <td>1.720000e+02</td>\n",
       "    </tr>\n",
       "  </tbody>\n",
       "</table>\n",
       "</div>"
      ],
      "text/plain": [
       "               time            IP            PD           FIR            WP  \\\n",
       "count  2.615471e+06  2.615471e+06  2.615471e+06  2.615471e+06  2.615471e+06   \n",
       "mean   8.427632e-01 -1.670041e+05  1.905961e+00  3.054001e+19  9.269129e+03   \n",
       "std    5.341768e-01  1.460525e+05  1.537137e+00  1.550879e+19  6.557237e+03   \n",
       "min    9.800076e-03 -4.633848e+05  0.000000e+00 -6.358192e+19 -1.856671e+04   \n",
       "25%    3.960001e-01 -2.214231e+05  8.275470e-01  2.038334e+19  4.832910e+03   \n",
       "50%    7.846002e-01 -1.779653e+05  1.508994e+00  2.872705e+19  7.645989e+03   \n",
       "75%    1.236000e+00 -1.422717e+05  2.565994e+00  3.901274e+19  1.321019e+04   \n",
       "max    2.575000e+00  5.219116e+05  1.000000e+01  1.196714e+20  4.367435e+04   \n",
       "\n",
       "              pulse  \n",
       "count  2.615471e+06  \n",
       "mean   8.747921e+01  \n",
       "std    5.027538e+01  \n",
       "min    1.000000e+00  \n",
       "25%    4.500000e+01  \n",
       "50%    8.600000e+01  \n",
       "75%    1.310000e+02  \n",
       "max    1.720000e+02  "
      ]
     },
     "execution_count": 4,
     "metadata": {},
     "output_type": "execute_result"
    }
   ],
   "source": [
    "df.describe()"
   ]
  },
  {
   "cell_type": "code",
   "execution_count": 6,
   "id": "a5603f1e",
   "metadata": {},
   "outputs": [
    {
     "data": {
      "text/html": [
       "<div>\n",
       "<style scoped>\n",
       "    .dataframe tbody tr th:only-of-type {\n",
       "        vertical-align: middle;\n",
       "    }\n",
       "\n",
       "    .dataframe tbody tr th {\n",
       "        vertical-align: top;\n",
       "    }\n",
       "\n",
       "    .dataframe thead th {\n",
       "        text-align: right;\n",
       "    }\n",
       "</style>\n",
       "<table border=\"1\" class=\"dataframe\">\n",
       "  <thead>\n",
       "    <tr style=\"text-align: right;\">\n",
       "      <th></th>\n",
       "      <th>counts</th>\n",
       "      <th>freqs</th>\n",
       "    </tr>\n",
       "    <tr>\n",
       "      <th>categories</th>\n",
       "      <th></th>\n",
       "      <th></th>\n",
       "    </tr>\n",
       "  </thead>\n",
       "  <tbody>\n",
       "    <tr>\n",
       "      <th>Ip&lt;Ip_MIN</th>\n",
       "      <td>56371</td>\n",
       "      <td>0.021553</td>\n",
       "    </tr>\n",
       "    <tr>\n",
       "      <th>L</th>\n",
       "      <td>1573846</td>\n",
       "      <td>0.601745</td>\n",
       "    </tr>\n",
       "    <tr>\n",
       "      <th>D</th>\n",
       "      <td>153393</td>\n",
       "      <td>0.058648</td>\n",
       "    </tr>\n",
       "    <tr>\n",
       "      <th>H</th>\n",
       "      <td>830940</td>\n",
       "      <td>0.317702</td>\n",
       "    </tr>\n",
       "    <tr>\n",
       "      <th>NaN</th>\n",
       "      <td>921</td>\n",
       "      <td>0.000352</td>\n",
       "    </tr>\n",
       "  </tbody>\n",
       "</table>\n",
       "</div>"
      ],
      "text/plain": [
       "             counts     freqs\n",
       "categories                   \n",
       "Ip<Ip_MIN     56371  0.021553\n",
       "L           1573846  0.601745\n",
       "D            153393  0.058648\n",
       "H            830940  0.317702\n",
       "NaN             921  0.000352"
      ]
     },
     "execution_count": 6,
     "metadata": {},
     "output_type": "execute_result"
    }
   ],
   "source": [
    "df['LDH'].values.describe() # values in column LDH"
   ]
  },
  {
   "cell_type": "code",
   "execution_count": 7,
   "id": "ba68029d",
   "metadata": {},
   "outputs": [
    {
     "name": "stdout",
     "output_type": "stream",
     "text": [
      "number of useless data points:  57292\n",
      "percentage of discarded rows:  2.1905041195256985\n",
      "size of original data set:  2615471\n",
      "size of filtered data set:  2558179\n",
      "0\n",
      "data statistical description \n"
     ]
    },
    {
     "data": {
      "text/html": [
       "<div>\n",
       "<style scoped>\n",
       "    .dataframe tbody tr th:only-of-type {\n",
       "        vertical-align: middle;\n",
       "    }\n",
       "\n",
       "    .dataframe tbody tr th {\n",
       "        vertical-align: top;\n",
       "    }\n",
       "\n",
       "    .dataframe thead th {\n",
       "        text-align: right;\n",
       "    }\n",
       "</style>\n",
       "<table border=\"1\" class=\"dataframe\">\n",
       "  <thead>\n",
       "    <tr style=\"text-align: right;\">\n",
       "      <th></th>\n",
       "      <th>time</th>\n",
       "      <th>IP</th>\n",
       "      <th>PD</th>\n",
       "      <th>FIR</th>\n",
       "      <th>WP</th>\n",
       "      <th>pulse</th>\n",
       "    </tr>\n",
       "  </thead>\n",
       "  <tbody>\n",
       "    <tr>\n",
       "      <th>count</th>\n",
       "      <td>2.615471e+06</td>\n",
       "      <td>2.615471e+06</td>\n",
       "      <td>2.615471e+06</td>\n",
       "      <td>2.615471e+06</td>\n",
       "      <td>2.615471e+06</td>\n",
       "      <td>2.615471e+06</td>\n",
       "    </tr>\n",
       "    <tr>\n",
       "      <th>mean</th>\n",
       "      <td>8.427632e-01</td>\n",
       "      <td>-1.670041e+05</td>\n",
       "      <td>1.905961e+00</td>\n",
       "      <td>3.054001e+19</td>\n",
       "      <td>9.269129e+03</td>\n",
       "      <td>8.747921e+01</td>\n",
       "    </tr>\n",
       "    <tr>\n",
       "      <th>std</th>\n",
       "      <td>5.341768e-01</td>\n",
       "      <td>1.460525e+05</td>\n",
       "      <td>1.537137e+00</td>\n",
       "      <td>1.550879e+19</td>\n",
       "      <td>6.557237e+03</td>\n",
       "      <td>5.027538e+01</td>\n",
       "    </tr>\n",
       "    <tr>\n",
       "      <th>min</th>\n",
       "      <td>9.800076e-03</td>\n",
       "      <td>-4.633848e+05</td>\n",
       "      <td>0.000000e+00</td>\n",
       "      <td>-6.358192e+19</td>\n",
       "      <td>-1.856671e+04</td>\n",
       "      <td>1.000000e+00</td>\n",
       "    </tr>\n",
       "    <tr>\n",
       "      <th>25%</th>\n",
       "      <td>3.960001e-01</td>\n",
       "      <td>-2.214231e+05</td>\n",
       "      <td>8.275470e-01</td>\n",
       "      <td>2.038334e+19</td>\n",
       "      <td>4.832910e+03</td>\n",
       "      <td>4.500000e+01</td>\n",
       "    </tr>\n",
       "    <tr>\n",
       "      <th>50%</th>\n",
       "      <td>7.846002e-01</td>\n",
       "      <td>-1.779653e+05</td>\n",
       "      <td>1.508994e+00</td>\n",
       "      <td>2.872705e+19</td>\n",
       "      <td>7.645989e+03</td>\n",
       "      <td>8.600000e+01</td>\n",
       "    </tr>\n",
       "    <tr>\n",
       "      <th>75%</th>\n",
       "      <td>1.236000e+00</td>\n",
       "      <td>-1.422717e+05</td>\n",
       "      <td>2.565994e+00</td>\n",
       "      <td>3.901274e+19</td>\n",
       "      <td>1.321019e+04</td>\n",
       "      <td>1.310000e+02</td>\n",
       "    </tr>\n",
       "    <tr>\n",
       "      <th>max</th>\n",
       "      <td>2.575000e+00</td>\n",
       "      <td>5.219116e+05</td>\n",
       "      <td>1.000000e+01</td>\n",
       "      <td>1.196714e+20</td>\n",
       "      <td>4.367435e+04</td>\n",
       "      <td>1.720000e+02</td>\n",
       "    </tr>\n",
       "  </tbody>\n",
       "</table>\n",
       "</div>"
      ],
      "text/plain": [
       "               time            IP            PD           FIR            WP  \\\n",
       "count  2.615471e+06  2.615471e+06  2.615471e+06  2.615471e+06  2.615471e+06   \n",
       "mean   8.427632e-01 -1.670041e+05  1.905961e+00  3.054001e+19  9.269129e+03   \n",
       "std    5.341768e-01  1.460525e+05  1.537137e+00  1.550879e+19  6.557237e+03   \n",
       "min    9.800076e-03 -4.633848e+05  0.000000e+00 -6.358192e+19 -1.856671e+04   \n",
       "25%    3.960001e-01 -2.214231e+05  8.275470e-01  2.038334e+19  4.832910e+03   \n",
       "50%    7.846002e-01 -1.779653e+05  1.508994e+00  2.872705e+19  7.645989e+03   \n",
       "75%    1.236000e+00 -1.422717e+05  2.565994e+00  3.901274e+19  1.321019e+04   \n",
       "max    2.575000e+00  5.219116e+05  1.000000e+01  1.196714e+20  4.367435e+04   \n",
       "\n",
       "              pulse  \n",
       "count  2.615471e+06  \n",
       "mean   8.747921e+01  \n",
       "std    5.027538e+01  \n",
       "min    1.000000e+00  \n",
       "25%    4.500000e+01  \n",
       "50%    8.600000e+01  \n",
       "75%    1.310000e+02  \n",
       "max    1.720000e+02  "
      ]
     },
     "execution_count": 7,
     "metadata": {},
     "output_type": "execute_result"
    }
   ],
   "source": [
    "#df.dropna(inplace=True)\n",
    "#df.drop(df[df['LDH']  == 'Ip<Ip_MIN'].index, inplace = True)\n",
    "#df_filter = df[ df['LDH'] != 'Ip<Ip_MIN']\n",
    "\n",
    "mask = df['LDH'] == 'Ip<Ip_MIN'\n",
    "df_filter = df.drop(index = df[mask].index) #remove Ip<Ip_MIN values \n",
    "\n",
    "df_filter = df_filter.dropna() #remove Nan values\n",
    "df_filter = df_filter.reset_index(drop=True) #reset indexing\n",
    "df_filter.LDH = df_filter.LDH.cat.remove_categories('Ip<Ip_MIN') #remove Ip<Ip_MIN category\n",
    "\n",
    "discard_data = len(df.index) - len(df_filter.index) # number of data point that do not contain useful information\n",
    "print('number of useless data points: ', discard_data)\n",
    "print('percentage of discarded rows: ', 100-(len(df_filter.index)/len(df.index)*100))\n",
    "print('size of original data set: ', len(df.index))\n",
    "print('size of filtered data set: ', len(df_filter.index))\n",
    "\n",
    "print(len(df_filter.index) + discard_data - len(df.index))\n",
    "\n",
    "print('data statistical description ')\n",
    "df.describe()"
   ]
  },
  {
   "cell_type": "code",
   "execution_count": 8,
   "id": "2c7902df",
   "metadata": {},
   "outputs": [
    {
     "name": "stdout",
     "output_type": "stream",
     "text": [
      "values in LDH column\n"
     ]
    },
    {
     "data": {
      "text/html": [
       "<div>\n",
       "<style scoped>\n",
       "    .dataframe tbody tr th:only-of-type {\n",
       "        vertical-align: middle;\n",
       "    }\n",
       "\n",
       "    .dataframe tbody tr th {\n",
       "        vertical-align: top;\n",
       "    }\n",
       "\n",
       "    .dataframe thead th {\n",
       "        text-align: right;\n",
       "    }\n",
       "</style>\n",
       "<table border=\"1\" class=\"dataframe\">\n",
       "  <thead>\n",
       "    <tr style=\"text-align: right;\">\n",
       "      <th></th>\n",
       "      <th>counts</th>\n",
       "      <th>freqs</th>\n",
       "    </tr>\n",
       "    <tr>\n",
       "      <th>categories</th>\n",
       "      <th></th>\n",
       "      <th></th>\n",
       "    </tr>\n",
       "  </thead>\n",
       "  <tbody>\n",
       "    <tr>\n",
       "      <th>L</th>\n",
       "      <td>1573846</td>\n",
       "      <td>0.615221</td>\n",
       "    </tr>\n",
       "    <tr>\n",
       "      <th>D</th>\n",
       "      <td>153393</td>\n",
       "      <td>0.059962</td>\n",
       "    </tr>\n",
       "    <tr>\n",
       "      <th>H</th>\n",
       "      <td>830940</td>\n",
       "      <td>0.324817</td>\n",
       "    </tr>\n",
       "  </tbody>\n",
       "</table>\n",
       "</div>"
      ],
      "text/plain": [
       "             counts     freqs\n",
       "categories                   \n",
       "L           1573846  0.615221\n",
       "D            153393  0.059962\n",
       "H            830940  0.324817"
      ]
     },
     "execution_count": 8,
     "metadata": {},
     "output_type": "execute_result"
    }
   ],
   "source": [
    "print('values in LDH column') # to make sure removing actually works\n",
    "df_filter['LDH'].values.describe() # values in column LDH"
   ]
  },
  {
   "cell_type": "code",
   "execution_count": 9,
   "id": "3c615700",
   "metadata": {},
   "outputs": [
    {
     "name": "stdout",
     "output_type": "stream",
     "text": [
      "pulse\n"
     ]
    }
   ],
   "source": [
    "keys = df_filter.keys().to_numpy()\n",
    "number_wrong_data = np.zeros(len(keys) -1 )\n",
    "counter = 0\n",
    "for key in keys[1:]:\n",
    "    number_wrong_data[counter] = (df_filter[key] == 'Ip<Ip_MIN').mean()\n",
    "    counter = counter + 1\n",
    "\n",
    "print(keys[6])"
   ]
  },
  {
   "cell_type": "code",
   "execution_count": 10,
   "id": "8c9a631f",
   "metadata": {
    "tags": []
   },
   "outputs": [
    {
     "name": "stdout",
     "output_type": "stream",
     "text": [
      "[0. 0. 0. 0. 0. 0.]\n",
      "['IP' 'PD' 'FIR' 'WP' 'LDH' 'pulse']\n"
     ]
    },
    {
     "data": {
      "text/html": [
       "<div>\n",
       "<style scoped>\n",
       "    .dataframe tbody tr th:only-of-type {\n",
       "        vertical-align: middle;\n",
       "    }\n",
       "\n",
       "    .dataframe tbody tr th {\n",
       "        vertical-align: top;\n",
       "    }\n",
       "\n",
       "    .dataframe thead th {\n",
       "        text-align: right;\n",
       "    }\n",
       "</style>\n",
       "<table border=\"1\" class=\"dataframe\">\n",
       "  <thead>\n",
       "    <tr style=\"text-align: right;\">\n",
       "      <th></th>\n",
       "      <th>time</th>\n",
       "      <th>IP</th>\n",
       "      <th>PD</th>\n",
       "      <th>FIR</th>\n",
       "      <th>WP</th>\n",
       "      <th>LDH</th>\n",
       "      <th>pulse</th>\n",
       "    </tr>\n",
       "  </thead>\n",
       "  <tbody>\n",
       "    <tr>\n",
       "      <th>0</th>\n",
       "      <td>0.0257</td>\n",
       "      <td>50076.167327</td>\n",
       "      <td>1.796861</td>\n",
       "      <td>5.006723e+18</td>\n",
       "      <td>0.0</td>\n",
       "      <td>L</td>\n",
       "      <td>1.0</td>\n",
       "    </tr>\n",
       "    <tr>\n",
       "      <th>1</th>\n",
       "      <td>0.0258</td>\n",
       "      <td>50372.816198</td>\n",
       "      <td>1.816465</td>\n",
       "      <td>5.024210e+18</td>\n",
       "      <td>0.0</td>\n",
       "      <td>L</td>\n",
       "      <td>1.0</td>\n",
       "    </tr>\n",
       "    <tr>\n",
       "      <th>2</th>\n",
       "      <td>0.0259</td>\n",
       "      <td>50640.227687</td>\n",
       "      <td>2.031274</td>\n",
       "      <td>5.114125e+18</td>\n",
       "      <td>0.0</td>\n",
       "      <td>L</td>\n",
       "      <td>1.0</td>\n",
       "    </tr>\n",
       "    <tr>\n",
       "      <th>3</th>\n",
       "      <td>0.0260</td>\n",
       "      <td>50907.639176</td>\n",
       "      <td>1.894527</td>\n",
       "      <td>5.160487e+18</td>\n",
       "      <td>0.0</td>\n",
       "      <td>L</td>\n",
       "      <td>1.0</td>\n",
       "    </tr>\n",
       "    <tr>\n",
       "      <th>4</th>\n",
       "      <td>0.0261</td>\n",
       "      <td>51078.462437</td>\n",
       "      <td>1.865220</td>\n",
       "      <td>5.162926e+18</td>\n",
       "      <td>0.0</td>\n",
       "      <td>L</td>\n",
       "      <td>1.0</td>\n",
       "    </tr>\n",
       "  </tbody>\n",
       "</table>\n",
       "</div>"
      ],
      "text/plain": [
       "     time            IP        PD           FIR   WP LDH  pulse\n",
       "0  0.0257  50076.167327  1.796861  5.006723e+18  0.0   L    1.0\n",
       "1  0.0258  50372.816198  1.816465  5.024210e+18  0.0   L    1.0\n",
       "2  0.0259  50640.227687  2.031274  5.114125e+18  0.0   L    1.0\n",
       "3  0.0260  50907.639176  1.894527  5.160487e+18  0.0   L    1.0\n",
       "4  0.0261  51078.462437  1.865220  5.162926e+18  0.0   L    1.0"
      ]
     },
     "execution_count": 10,
     "metadata": {},
     "output_type": "execute_result"
    }
   ],
   "source": [
    "print(number_wrong_data)\n",
    "print(keys[1:])\n",
    "df_filter.head()"
   ]
  },
  {
   "cell_type": "code",
   "execution_count": 11,
   "id": "40759551",
   "metadata": {},
   "outputs": [
    {
     "data": {
      "text/plain": [
       "0.0"
      ]
     },
     "execution_count": 11,
     "metadata": {},
     "output_type": "execute_result"
    }
   ],
   "source": [
    "df_filter['LDH'].values\n",
    "(df_filter['LDH'] == 'Ip<Ip_MIN').mean() # to test Ip<Ip_MIN is actually dropped"
   ]
  },
  {
   "cell_type": "code",
   "execution_count": 12,
   "id": "52eac53c-3d03-4af8-b872-fe20ba719cf5",
   "metadata": {
    "tags": []
   },
   "outputs": [
    {
     "name": "stdout",
     "output_type": "stream",
     "text": [
      "i 118742\n"
     ]
    }
   ],
   "source": [
    "num_pulses=int(max(df_filter['pulse'].values)) # tot number of different pulses == tot number of different experiments\n",
    "num_rows=len(df_filter['pulse'].values)\n",
    "pulses = list(range(1, num_pulses+1))\n",
    "#from 1 to 172 included\n",
    "data_pulse_separated=[]\n",
    "for j in range(0,num_pulses):\n",
    "    data_pulse_separated.append([])\n",
    "i=0\n",
    "while i<len(df_filter['pulse'].values):\n",
    "    J=0\n",
    "    for j in range(0,num_pulses):\n",
    "        if(df_filter['pulse'].values[i] == j):\n",
    "            data_pulse_separated[j].append(df_filter.iloc[i,:].tolist())  #select i-th row of the dataframe and conver to list \n",
    "    if(df_filter['pulse'].values[i] == 10): ## change the value if you want to analyze for instance the 10th or 11th pulse\n",
    "        print(\"i\",i)\n",
    "        break\n",
    "    i+=1\n",
    "\n",
    "#print(data_pulse_separated[1])"
   ]
  },
  {
   "cell_type": "code",
   "execution_count": 25,
   "id": "b18d3267-2afb-46ed-882f-ed209d596df3",
   "metadata": {},
   "outputs": [
    {
     "name": "stdout",
     "output_type": "stream",
     "text": [
      "number of datapoints for this pulse:  6622\n",
      "*** FEATURE IP ***\n",
      "max:  425094.72647348\n",
      "avg:  350918.29642449453\n",
      "min:  50590.7166171509\n",
      "*** FEATURE PD ***\n",
      "max:  7.95973955820908\n",
      "avg:  1.8326579515536456\n",
      "min:  0.864268033070094\n",
      "*** FEATURE FIR ***\n",
      "max:  5.58942976432914e+19\n",
      "avg:  3.874280520250725e+19\n",
      "min:  5.12968111536478e+18\n",
      "*** FEATURE WP ***\n",
      "max:  27592.871017454\n",
      "avg:  17811.706008970494\n",
      "min:  398.897871873487\n"
     ]
    },
    {
     "data": {
      "image/png": "[encoded data removed]",
      "text/plain": [
       "<Figure size 360x360 with 1 Axes>"
      ]
     },
     "metadata": {},
     "output_type": "display_data"
    },
    {
     "data": {
      "image/png": "[encoded data removed]",
      "text/plain": [
       "<Figure size 360x360 with 1 Axes>"
      ]
     },
     "metadata": {},
     "output_type": "display_data"
    },
    {
     "data": {
      "image/png": "[encoded data removed]",
      "text/plain": [
       "<Figure size 360x360 with 1 Axes>"
      ]
     },
     "metadata": {},
     "output_type": "display_data"
    },
    {
     "data": {
      "image/png": "[encoded data removed]",
      "text/plain": [
       "<Figure size 360x360 with 1 Axes>"
      ]
     },
     "metadata": {},
     "output_type": "display_data"
    }
   ],
   "source": [
    "import seaborn as sns\n",
    "selected_pulse=9       #select the pulse you want to analyze (select an integer from 1 to 9 included)\n",
    "print(\"number of datapoints for this pulse: \",len(data_pulse_separated[selected_pulse]))\n",
    "for i in range(1,5):   #select all features except time(0) and LDH(5) and pulse(6) which is already taken into consideration \n",
    "    x=[]\n",
    "    for k in range(1,len(data_pulse_separated[selected_pulse])-1):\n",
    "        x.append(data_pulse_separated[selected_pulse][k][i])\n",
    "    sns.displot(x)\n",
    "    if(i==1):\n",
    "        print(\"*** FEATURE IP ***\")\n",
    "    elif(i==2):\n",
    "        print(\"*** FEATURE PD ***\")\n",
    "    elif(i==3):\n",
    "        print(\"*** FEATURE FIR ***\")\n",
    "    else:\n",
    "        print(\"*** FEATURE WP ***\")\n",
    "    print(\"max: \",max(x))\n",
    "    print(\"avg: \",sum(x)/len(x))\n",
    "    print(\"min: \",min(x))\n",
    "\n",
    "    #x=[elem for elem in x if elem >= 375000] to see the the plot better infor feature 1\n",
    "    #sns.displot(x)"
   ]
  },
  {
   "cell_type": "code",
   "execution_count": null,
   "id": "e664d96f",
   "metadata": {},
   "outputs": [],
   "source": [
    "## this plot is really time-consuming\n",
    "\n",
    "percent_data_plots = 0.01\n",
    "number_rows = len(df_filter.index)\n",
    "sample_size = int( number_rows * percent_data_plots )\n",
    "sample = df_filter.sample(10000) # data sample picked at random\n",
    "print(sample_size)\n",
    "print(sample['LDH'].values)\n",
    "#sns.pairplot(sample, diag_kind='kde',hue = 'LDH', markers=[\"D\", \"o\", \"o\", \"o\"])"
   ]
  },
  {
   "cell_type": "code",
   "execution_count": null,
   "id": "21037b79",
   "metadata": {},
   "outputs": [],
   "source": [
    "# correlation matrices\n",
    "\n",
    "corrmat = df_filter.corr()\n",
    "f, ax = plt.subplots(figsize =(9, 8))\n",
    "sns.heatmap(corrmat, ax = ax, cmap =\"YlGnBu\", linewidths = 0.1)\n",
    "cg = sns.clustermap(corrmat, cmap =\"YlGnBu\", linewidths = 0.1);\n",
    "plt.setp(cg.ax_heatmap.yaxis.get_majorticklabels(), rotation = 0)"
   ]
  },
  {
   "cell_type": "code",
   "execution_count": null,
   "id": "6c91dd5a",
   "metadata": {},
   "outputs": [],
   "source": [
    "# plot of each feature vs labels\n",
    "ax1 = df_filter.plot.scatter(x='LDH', y='PD', c='DarkBlue')\n",
    "\n",
    "#plt.plot(df_filter['LDH'], ls = 'none', marker = 'x')"
   ]
  },
  {
   "cell_type": "code",
   "execution_count": null,
   "id": "5de1904d",
   "metadata": {},
   "outputs": [],
   "source": [
    "df_filter.head(20)"
   ]
  },
  {
   "cell_type": "code",
   "execution_count": null,
   "id": "dd191933",
   "metadata": {},
   "outputs": [],
   "source": [
    "# testing of functions. This can deleted\n",
    "features = df_filter.keys().to_numpy()\n",
    "mask_features = features != 'LDH'\n",
    "features = features[mask_features]"
   ]
  },
  {
   "cell_type": "code",
   "execution_count": null,
   "id": "33cb9491",
   "metadata": {},
   "outputs": [],
   "source": [
    "### PCA computation\n",
    "features = df_filter.keys().to_numpy()\n",
    "# ['time' 'IP' 'PD' 'FIR' 'WP' 'LDH' 'pulse']\n",
    "print(features)\n",
    "mask = np.array([False, True, True, True, False, False, True ])\n",
    "print(features[mask])"
   ]
  },
  {
   "cell_type": "code",
   "execution_count": null,
   "id": "e64976b5",
   "metadata": {},
   "outputs": [],
   "source": [
    "from sklearn.decomposition import PCA\n",
    "from sklearn.preprocessing import StandardScaler\n",
    "from mpl_toolkits.mplot3d import Axes3D\n",
    "\n",
    "# features \n",
    "features = df_filter.keys().to_numpy()\n",
    "#mask_features_1 = features != 'LDH'\n",
    "# we remove time, WP, and LDH \n",
    "mask_features = np.array([False, True, True, True, False, False, True ])\n",
    "\n",
    "features = features[mask_features]\n",
    "print('features in PCA computation', features)\n",
    "\n",
    "#separate features\n",
    "x = df_filter.loc[:, features].values\n",
    "y = df_filter.loc[:,['LDH']].values\n",
    "x = StandardScaler().fit_transform(x) # Standardizing the features\n",
    "print(x.shape) # dimension of features\n",
    "print(y.shape) # dimension of labels"
   ]
  },
  {
   "cell_type": "code",
   "execution_count": null,
   "id": "2c5f96a3",
   "metadata": {},
   "outputs": [],
   "source": [
    "pca = PCA(n_components=2)\n",
    "principalComponents = pca.fit_transform(x)\n",
    "principalDf = pd.DataFrame(data = principalComponents, columns = ['principal component 1', 'principal component 2'])\n",
    "\n",
    "finalDf = pd.concat([principalDf, df_filter[['LDH']]], axis = 1)"
   ]
  },
  {
   "cell_type": "code",
   "execution_count": null,
   "id": "f1a6a789",
   "metadata": {},
   "outputs": [],
   "source": [
    "finalDf.head()"
   ]
  },
  {
   "cell_type": "code",
   "execution_count": null,
   "id": "a820516f",
   "metadata": {},
   "outputs": [],
   "source": [
    "# PCA visualialization\n",
    "fig = plt.figure(figsize = (10, 10))\n",
    "ax = fig.add_subplot(1,1,1) \n",
    "ax.set_xlabel('Principal Component 1', fontsize = 12)\n",
    "ax.set_ylabel('Principal Component 2', fontsize = 12)\n",
    "ax.set_title('2 component PCA', fontsize = 15)\n",
    "targets = ['L', 'D', 'H',] # labels to predict\n",
    "colors = ['r', 'g', 'b',]\n",
    "for target, color in zip(targets,colors):\n",
    "    indicesToKeep = finalDf['LDH'] == target\n",
    "    ax.scatter(finalDf.loc[indicesToKeep, 'principal component 1']\n",
    "               , finalDf.loc[indicesToKeep, 'principal component 2']\n",
    "               , c = color\n",
    "               , s = 50)\n",
    "ax.legend(targets)\n",
    "ax.grid()"
   ]
  },
  {
   "cell_type": "code",
   "execution_count": null,
   "id": "d76e8133",
   "metadata": {},
   "outputs": [],
   "source": [
    "# observe values in column WP\n",
    "df_filter['WP'].describe()"
   ]
  },
  {
   "cell_type": "code",
   "execution_count": null,
   "id": "5ffb4ffd",
   "metadata": {},
   "outputs": [],
   "source": [
    "data_frame = df_filter.copy()\n",
    "data_frame['LDH'] = np.where(data_frame['LDH'] == 'L', 0)"
   ]
  },
  {
   "cell_type": "code",
   "execution_count": null,
   "id": "ae927343",
   "metadata": {},
   "outputs": [],
   "source": [
    "### -----------------------\n",
    "e column as describe in the paper:\n",
    "### Classification of tokamak plasma confinement states with convolutional\n",
    "### recurrent neural networks"
   ]
  },
  {
   "cell_type": "code",
   "execution_count": null,
   "id": "8d7e7efa",
   "metadata": {},
   "outputs": [],
   "source": [
    "df_filter.head()"
   ]
  },
  {
   "cell_type": "code",
   "execution_count": null,
   "id": "247e2fbe",
   "metadata": {},
   "outputs": [],
   "source": [
    "interval_plot = 1000\n",
    "plt.plot(df_filter.time[:interval_plot:], df_filter.IP[:interval_plot:], ls = '-', lw = 0.80, c = 'k', label ='IP')\n",
    "plt.legend()\n",
    "plt.show()"
   ]
  },
  {
   "cell_type": "code",
   "execution_count": null,
   "id": "373ede0c",
   "metadata": {},
   "outputs": [],
   "source": [
    "# plot of quantities vs time every 100 time steps\n",
    "\n",
    "interval_plot = 100\n",
    "plt.plot(df_filter.time[:interval_plot:], df_filter.IP[:interval_plot:], ls = '-', lw = 0.80, c = 'k', label ='IP')\n",
    "plt.legend()\n",
    "plt.show()\n",
    "\n",
    "plt.plot(df_filter.time[:interval_plot:], df_filter.PD[:interval_plot:], ls = '-', lw = 1, c = 'b', label ='PD')\n",
    "plt.legend()\n",
    "plt.show()\n",
    "\n",
    "plt.plot(df_filter.time[:interval_plot:], df_filter.FIR[:interval_plot:], ls = '-', lw = 1, c = 'red', label ='FIR')\n",
    "plt.legend()\n",
    "plt.show()\n",
    "\n",
    "plt.plot(df_filter.time[:interval_plot:], df_filter.WP[:interval_plot:], ls = '-', lw = 1, c = 'green', label ='WP')\n",
    "plt.legend()\n",
    "plt.show()\n",
    "\n",
    "plt.plot(df_filter.time[:interval_plot:], df_filter.pulse[:interval_plot:], ls = '-', lw = 1, c = 'magenta', label ='pulse')\n",
    "plt.legend()\n",
    "plt.show()"
   ]
  },
  {
   "cell_type": "code",
   "execution_count": null,
   "id": "0a7f1326",
   "metadata": {},
   "outputs": [],
   "source": [
    "# rolling average\n",
    "step_average = 20\n",
    "\n",
    "plt.plot(df_filter.IP.rolling(window = step_average).mean(), ls = '-', lw = 0.80, c = 'k', label ='moving mean IP')\n",
    "plt.legend(loc = 'best')\n",
    "plt.show()\n",
    "\n",
    "plt.plot(df_filter.PD.rolling(window = step_average).mean(), ls = '-', lw = 0.80, c = 'b', label ='moving mean PD')\n",
    "plt.legend(loc = 'best')\n",
    "plt.show()\n",
    "\n",
    "plt.plot(df_filter.FIR.rolling(window = step_average).mean(), ls = '-', lw = 0.80, c = 'red', label ='moving mean FIR')\n",
    "plt.legend(loc = 'best')\n",
    "plt.show()\n",
    "\n",
    "plt.plot(df_filter.WP.rolling(window = step_average).mean(), ls = '-', lw = 0.80, c = 'green', label ='moving mean WP')\n",
    "plt.legend(loc = 'best')\n",
    "plt.show()\n",
    "\n",
    "plt.plot(df_filter.pulse.rolling(window = step_average).mean(), ls = '-', lw = 0.80, c = 'magenta', label ='moving mean pulse')\n",
    "plt.legend(loc = 'best')\n",
    "plt.show()"
   ]
  },
  {
   "cell_type": "code",
   "execution_count": null,
   "id": "ac390699",
   "metadata": {},
   "outputs": [],
   "source": [
    "df_filter.IP.rolling(window = step_average).mean().head(30).T"
   ]
  },
  {
   "cell_type": "code",
   "execution_count": null,
   "id": "976f5bc1",
   "metadata": {},
   "outputs": [],
   "source": [
    "df_filter.IP.head()"
   ]
  }
 ],
 "metadata": {
  "kernelspec": {
   "display_name": "Python 3 (ipykernel)",
   "language": "python",
   "name": "python3"
  },
  "language_info": {
   "codemirror_mode": {
    "name": "ipython",
    "version": 3
   },
   "file_extension": ".py",
   "mimetype": "text/x-python",
   "name": "python",
   "nbconvert_exporter": "python",
   "pygments_lexer": "ipython3",
   "version": "3.9.7"
  }
 },
 "nbformat": 4,
 "nbformat_minor": 5
}
