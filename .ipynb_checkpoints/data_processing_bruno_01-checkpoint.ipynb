{
 "cells": [
  {
   "cell_type": "code",
   "execution_count": 2,
   "id": "93d71640",
   "metadata": {},
   "outputs": [
    {
     "ename": "ModuleNotFoundError",
     "evalue": "No module named 'seaborn'",
     "output_type": "error",
     "traceback": [
      "\u001b[0;31m---------------------------------------------------------------------------\u001b[0m",
      "\u001b[0;31mModuleNotFoundError\u001b[0m                       Traceback (most recent call last)",
      "\u001b[0;32m/var/folders/kc/5wgtb93s7y9d5mzpdd41qclw0000gn/T/ipykernel_49536/176003130.py\u001b[0m in \u001b[0;36m<module>\u001b[0;34m\u001b[0m\n\u001b[1;32m      3\u001b[0m \u001b[0;32mimport\u001b[0m \u001b[0mnumpy\u001b[0m \u001b[0;32mas\u001b[0m \u001b[0mnp\u001b[0m\u001b[0;34m\u001b[0m\u001b[0;34m\u001b[0m\u001b[0m\n\u001b[1;32m      4\u001b[0m \u001b[0;32mimport\u001b[0m \u001b[0mmatplotlib\u001b[0m\u001b[0;34m.\u001b[0m\u001b[0mpyplot\u001b[0m \u001b[0;32mas\u001b[0m \u001b[0mplt\u001b[0m\u001b[0;34m\u001b[0m\u001b[0;34m\u001b[0m\u001b[0m\n\u001b[0;32m----> 5\u001b[0;31m \u001b[0;32mimport\u001b[0m \u001b[0mseaborn\u001b[0m \u001b[0;32mas\u001b[0m \u001b[0msns\u001b[0m\u001b[0;34m\u001b[0m\u001b[0;34m\u001b[0m\u001b[0m\n\u001b[0m\u001b[1;32m      6\u001b[0m \u001b[0;32mimport\u001b[0m \u001b[0mpandas\u001b[0m \u001b[0;32mas\u001b[0m \u001b[0mpd\u001b[0m\u001b[0;34m\u001b[0m\u001b[0;34m\u001b[0m\u001b[0m\n\u001b[1;32m      7\u001b[0m \u001b[0;34m\u001b[0m\u001b[0m\n",
      "\u001b[0;31mModuleNotFoundError\u001b[0m: No module named 'seaborn'"
     ]
    }
   ],
   "source": [
    "# Useful starting lines\n",
    "%matplotlib inline\n",
    "import numpy as np\n",
    "import matplotlib.pyplot as plt\n",
    "import seaborn as sns\n",
    "import pandas as pd\n",
    "\n",
    "%load_ext autoreload\n",
    "%autoreload 2\n",
    "\n",
    "sns.set()"
   ]
  },
  {
   "cell_type": "code",
   "execution_count": 2,
   "id": "62b57ad1",
   "metadata": {},
   "outputs": [],
   "source": [
    "parquet_file = 'TCV_LHD_db4ML.parquet.part'\n",
    "df = pd.read_parquet(parquet_file, engine ='auto')"
   ]
  },
  {
   "cell_type": "code",
   "execution_count": 3,
   "id": "120fc9ea",
   "metadata": {},
   "outputs": [
    {
     "name": "stdout",
     "output_type": "stream",
     "text": [
      "     time            IP        PD           FIR   WP        LDH  pulse\n",
      "0  0.0206  30409.787109  1.816398  4.077222e+18  0.0  Ip<Ip_MIN    1.0\n",
      "1  0.0207  30882.741994  1.992211  4.092746e+18  0.0  Ip<Ip_MIN    1.0\n",
      "2  0.0208  31355.696879  2.016582  4.116485e+18  0.0  Ip<Ip_MIN    1.0\n",
      "3  0.0209  31856.508747  1.943354  4.101001e+18  0.0  Ip<Ip_MIN    1.0\n",
      "4  0.0210  32357.321558  1.860389  4.185470e+18  0.0  Ip<Ip_MIN    1.0\n",
      "----------oooo0000oooo----------\n",
      "<class 'pandas.core.frame.DataFrame'>\n",
      "RangeIndex: 2615471 entries, 0 to 2615470\n",
      "Data columns (total 7 columns):\n",
      " #   Column  Dtype   \n",
      "---  ------  -----   \n",
      " 0   time    float64 \n",
      " 1   IP      float64 \n",
      " 2   PD      float64 \n",
      " 3   FIR     float64 \n",
      " 4   WP      float64 \n",
      " 5   LDH     category\n",
      " 6   pulse   float64 \n",
      "dtypes: category(1), float64(6)\n",
      "memory usage: 122.2 MB\n",
      "None\n"
     ]
    }
   ],
   "source": [
    "print(df.head())\n",
    "print('----------oooo0000oooo----------')\n",
    "print(df.info())"
   ]
  },
  {
   "cell_type": "code",
   "execution_count": 4,
   "id": "46355876",
   "metadata": {},
   "outputs": [
    {
     "data": {
      "text/html": [
       "<div>\n",
       "<style scoped>\n",
       "    .dataframe tbody tr th:only-of-type {\n",
       "        vertical-align: middle;\n",
       "    }\n",
       "\n",
       "    .dataframe tbody tr th {\n",
       "        vertical-align: top;\n",
       "    }\n",
       "\n",
       "    .dataframe thead th {\n",
       "        text-align: right;\n",
       "    }\n",
       "</style>\n",
       "<table border=\"1\" class=\"dataframe\">\n",
       "  <thead>\n",
       "    <tr style=\"text-align: right;\">\n",
       "      <th></th>\n",
       "      <th>time</th>\n",
       "      <th>IP</th>\n",
       "      <th>PD</th>\n",
       "      <th>FIR</th>\n",
       "      <th>WP</th>\n",
       "      <th>pulse</th>\n",
       "    </tr>\n",
       "  </thead>\n",
       "  <tbody>\n",
       "    <tr>\n",
       "      <th>count</th>\n",
       "      <td>2.615471e+06</td>\n",
       "      <td>2.615471e+06</td>\n",
       "      <td>2.615471e+06</td>\n",
       "      <td>2.615471e+06</td>\n",
       "      <td>2.615471e+06</td>\n",
       "      <td>2.615471e+06</td>\n",
       "    </tr>\n",
       "    <tr>\n",
       "      <th>mean</th>\n",
       "      <td>8.427632e-01</td>\n",
       "      <td>-1.670041e+05</td>\n",
       "      <td>1.905961e+00</td>\n",
       "      <td>3.054001e+19</td>\n",
       "      <td>9.269129e+03</td>\n",
       "      <td>8.747921e+01</td>\n",
       "    </tr>\n",
       "    <tr>\n",
       "      <th>std</th>\n",
       "      <td>5.341768e-01</td>\n",
       "      <td>1.460525e+05</td>\n",
       "      <td>1.537137e+00</td>\n",
       "      <td>1.550879e+19</td>\n",
       "      <td>6.557237e+03</td>\n",
       "      <td>5.027538e+01</td>\n",
       "    </tr>\n",
       "    <tr>\n",
       "      <th>min</th>\n",
       "      <td>9.800076e-03</td>\n",
       "      <td>-4.633848e+05</td>\n",
       "      <td>0.000000e+00</td>\n",
       "      <td>-6.358192e+19</td>\n",
       "      <td>-1.856671e+04</td>\n",
       "      <td>1.000000e+00</td>\n",
       "    </tr>\n",
       "    <tr>\n",
       "      <th>25%</th>\n",
       "      <td>3.960001e-01</td>\n",
       "      <td>-2.214231e+05</td>\n",
       "      <td>8.275470e-01</td>\n",
       "      <td>2.038334e+19</td>\n",
       "      <td>4.832910e+03</td>\n",
       "      <td>4.500000e+01</td>\n",
       "    </tr>\n",
       "    <tr>\n",
       "      <th>50%</th>\n",
       "      <td>7.846002e-01</td>\n",
       "      <td>-1.779653e+05</td>\n",
       "      <td>1.508994e+00</td>\n",
       "      <td>2.872705e+19</td>\n",
       "      <td>7.645989e+03</td>\n",
       "      <td>8.600000e+01</td>\n",
       "    </tr>\n",
       "    <tr>\n",
       "      <th>75%</th>\n",
       "      <td>1.236000e+00</td>\n",
       "      <td>-1.422717e+05</td>\n",
       "      <td>2.565994e+00</td>\n",
       "      <td>3.901274e+19</td>\n",
       "      <td>1.321019e+04</td>\n",
       "      <td>1.310000e+02</td>\n",
       "    </tr>\n",
       "    <tr>\n",
       "      <th>max</th>\n",
       "      <td>2.575000e+00</td>\n",
       "      <td>5.219116e+05</td>\n",
       "      <td>1.000000e+01</td>\n",
       "      <td>1.196714e+20</td>\n",
       "      <td>4.367435e+04</td>\n",
       "      <td>1.720000e+02</td>\n",
       "    </tr>\n",
       "  </tbody>\n",
       "</table>\n",
       "</div>"
      ],
      "text/plain": [
       "               time            IP            PD           FIR            WP  \\\n",
       "count  2.615471e+06  2.615471e+06  2.615471e+06  2.615471e+06  2.615471e+06   \n",
       "mean   8.427632e-01 -1.670041e+05  1.905961e+00  3.054001e+19  9.269129e+03   \n",
       "std    5.341768e-01  1.460525e+05  1.537137e+00  1.550879e+19  6.557237e+03   \n",
       "min    9.800076e-03 -4.633848e+05  0.000000e+00 -6.358192e+19 -1.856671e+04   \n",
       "25%    3.960001e-01 -2.214231e+05  8.275470e-01  2.038334e+19  4.832910e+03   \n",
       "50%    7.846002e-01 -1.779653e+05  1.508994e+00  2.872705e+19  7.645989e+03   \n",
       "75%    1.236000e+00 -1.422717e+05  2.565994e+00  3.901274e+19  1.321019e+04   \n",
       "max    2.575000e+00  5.219116e+05  1.000000e+01  1.196714e+20  4.367435e+04   \n",
       "\n",
       "              pulse  \n",
       "count  2.615471e+06  \n",
       "mean   8.747921e+01  \n",
       "std    5.027538e+01  \n",
       "min    1.000000e+00  \n",
       "25%    4.500000e+01  \n",
       "50%    8.600000e+01  \n",
       "75%    1.310000e+02  \n",
       "max    1.720000e+02  "
      ]
     },
     "execution_count": 4,
     "metadata": {},
     "output_type": "execute_result"
    }
   ],
   "source": [
    "df.describe()"
   ]
  },
  {
   "cell_type": "code",
   "execution_count": 5,
   "id": "a5603f1e",
   "metadata": {},
   "outputs": [
    {
     "data": {
      "text/plain": [
       "['Ip<Ip_MIN', 'Ip<Ip_MIN', 'Ip<Ip_MIN', 'Ip<Ip_MIN', 'Ip<Ip_MIN', ..., 'L', 'L', NaN, 'Ip<Ip_MIN', 'Ip<Ip_MIN']\n",
       "Length: 2615471\n",
       "Categories (4, object): ['Ip<Ip_MIN' < 'L' < 'D' < 'H']"
      ]
     },
     "execution_count": 5,
     "metadata": {},
     "output_type": "execute_result"
    }
   ],
   "source": [
    "df['LDH'].values"
   ]
  },
  {
   "cell_type": "code",
   "execution_count": 6,
   "id": "ba68029d",
   "metadata": {},
   "outputs": [
    {
     "name": "stdout",
     "output_type": "stream",
     "text": [
      "number of useless data points:  56371\n",
      "size of original data set:  2615471\n",
      "size of filtered data set:  2559100\n",
      "0\n"
     ]
    },
    {
     "data": {
      "text/html": [
       "<div>\n",
       "<style scoped>\n",
       "    .dataframe tbody tr th:only-of-type {\n",
       "        vertical-align: middle;\n",
       "    }\n",
       "\n",
       "    .dataframe tbody tr th {\n",
       "        vertical-align: top;\n",
       "    }\n",
       "\n",
       "    .dataframe thead th {\n",
       "        text-align: right;\n",
       "    }\n",
       "</style>\n",
       "<table border=\"1\" class=\"dataframe\">\n",
       "  <thead>\n",
       "    <tr style=\"text-align: right;\">\n",
       "      <th></th>\n",
       "      <th>time</th>\n",
       "      <th>IP</th>\n",
       "      <th>PD</th>\n",
       "      <th>FIR</th>\n",
       "      <th>WP</th>\n",
       "      <th>pulse</th>\n",
       "    </tr>\n",
       "  </thead>\n",
       "  <tbody>\n",
       "    <tr>\n",
       "      <th>count</th>\n",
       "      <td>2.615471e+06</td>\n",
       "      <td>2.615471e+06</td>\n",
       "      <td>2.615471e+06</td>\n",
       "      <td>2.615471e+06</td>\n",
       "      <td>2.615471e+06</td>\n",
       "      <td>2.615471e+06</td>\n",
       "    </tr>\n",
       "    <tr>\n",
       "      <th>mean</th>\n",
       "      <td>8.427632e-01</td>\n",
       "      <td>-1.670041e+05</td>\n",
       "      <td>1.905961e+00</td>\n",
       "      <td>3.054001e+19</td>\n",
       "      <td>9.269129e+03</td>\n",
       "      <td>8.747921e+01</td>\n",
       "    </tr>\n",
       "    <tr>\n",
       "      <th>std</th>\n",
       "      <td>5.341768e-01</td>\n",
       "      <td>1.460525e+05</td>\n",
       "      <td>1.537137e+00</td>\n",
       "      <td>1.550879e+19</td>\n",
       "      <td>6.557237e+03</td>\n",
       "      <td>5.027538e+01</td>\n",
       "    </tr>\n",
       "    <tr>\n",
       "      <th>min</th>\n",
       "      <td>9.800076e-03</td>\n",
       "      <td>-4.633848e+05</td>\n",
       "      <td>0.000000e+00</td>\n",
       "      <td>-6.358192e+19</td>\n",
       "      <td>-1.856671e+04</td>\n",
       "      <td>1.000000e+00</td>\n",
       "    </tr>\n",
       "    <tr>\n",
       "      <th>25%</th>\n",
       "      <td>3.960001e-01</td>\n",
       "      <td>-2.214231e+05</td>\n",
       "      <td>8.275470e-01</td>\n",
       "      <td>2.038334e+19</td>\n",
       "      <td>4.832910e+03</td>\n",
       "      <td>4.500000e+01</td>\n",
       "    </tr>\n",
       "    <tr>\n",
       "      <th>50%</th>\n",
       "      <td>7.846002e-01</td>\n",
       "      <td>-1.779653e+05</td>\n",
       "      <td>1.508994e+00</td>\n",
       "      <td>2.872705e+19</td>\n",
       "      <td>7.645989e+03</td>\n",
       "      <td>8.600000e+01</td>\n",
       "    </tr>\n",
       "    <tr>\n",
       "      <th>75%</th>\n",
       "      <td>1.236000e+00</td>\n",
       "      <td>-1.422717e+05</td>\n",
       "      <td>2.565994e+00</td>\n",
       "      <td>3.901274e+19</td>\n",
       "      <td>1.321019e+04</td>\n",
       "      <td>1.310000e+02</td>\n",
       "    </tr>\n",
       "    <tr>\n",
       "      <th>max</th>\n",
       "      <td>2.575000e+00</td>\n",
       "      <td>5.219116e+05</td>\n",
       "      <td>1.000000e+01</td>\n",
       "      <td>1.196714e+20</td>\n",
       "      <td>4.367435e+04</td>\n",
       "      <td>1.720000e+02</td>\n",
       "    </tr>\n",
       "  </tbody>\n",
       "</table>\n",
       "</div>"
      ],
      "text/plain": [
       "               time            IP            PD           FIR            WP  \\\n",
       "count  2.615471e+06  2.615471e+06  2.615471e+06  2.615471e+06  2.615471e+06   \n",
       "mean   8.427632e-01 -1.670041e+05  1.905961e+00  3.054001e+19  9.269129e+03   \n",
       "std    5.341768e-01  1.460525e+05  1.537137e+00  1.550879e+19  6.557237e+03   \n",
       "min    9.800076e-03 -4.633848e+05  0.000000e+00 -6.358192e+19 -1.856671e+04   \n",
       "25%    3.960001e-01 -2.214231e+05  8.275470e-01  2.038334e+19  4.832910e+03   \n",
       "50%    7.846002e-01 -1.779653e+05  1.508994e+00  2.872705e+19  7.645989e+03   \n",
       "75%    1.236000e+00 -1.422717e+05  2.565994e+00  3.901274e+19  1.321019e+04   \n",
       "max    2.575000e+00  5.219116e+05  1.000000e+01  1.196714e+20  4.367435e+04   \n",
       "\n",
       "              pulse  \n",
       "count  2.615471e+06  \n",
       "mean   8.747921e+01  \n",
       "std    5.027538e+01  \n",
       "min    1.000000e+00  \n",
       "25%    4.500000e+01  \n",
       "50%    8.600000e+01  \n",
       "75%    1.310000e+02  \n",
       "max    1.720000e+02  "
      ]
     },
     "execution_count": 6,
     "metadata": {},
     "output_type": "execute_result"
    }
   ],
   "source": [
    "#df.dropna(inplace=True)\n",
    "#df.drop(df[df['LDH']  == 'Ip<Ip_MIN'].index, inplace = True)\n",
    "#df_filter = df[ df['LDH'] != 'Ip<Ip_MIN']\n",
    "\n",
    "mask = df['LDH'] == 'Ip<Ip_MIN'\n",
    "df_filter = df.dropna()\n",
    "df_filter = df.drop(index = df[mask].index)\n",
    "df_filter = df_filter.reset_index(drop=True)\n",
    "\n",
    "discard_data = len(df.index) - len(df_filter.index) # number of data point that do not contain useful information\n",
    "print('number of useless data points: ', discard_data)\n",
    "print('size of original data set: ', len(df.index))\n",
    "print('size of filtered data set: ', len(df_filter.index))\n",
    "\n",
    "print(len(df_filter.index) + discard_data - len(df.index))\n",
    "\n",
    "df.describe()"
   ]
  },
  {
   "cell_type": "code",
   "execution_count": 7,
   "id": "94abbc26",
   "metadata": {},
   "outputs": [
    {
     "data": {
      "text/html": [
       "<div>\n",
       "<style scoped>\n",
       "    .dataframe tbody tr th:only-of-type {\n",
       "        vertical-align: middle;\n",
       "    }\n",
       "\n",
       "    .dataframe tbody tr th {\n",
       "        vertical-align: top;\n",
       "    }\n",
       "\n",
       "    .dataframe thead th {\n",
       "        text-align: right;\n",
       "    }\n",
       "</style>\n",
       "<table border=\"1\" class=\"dataframe\">\n",
       "  <thead>\n",
       "    <tr style=\"text-align: right;\">\n",
       "      <th></th>\n",
       "      <th>time</th>\n",
       "      <th>IP</th>\n",
       "      <th>PD</th>\n",
       "      <th>FIR</th>\n",
       "      <th>WP</th>\n",
       "      <th>LDH</th>\n",
       "      <th>pulse</th>\n",
       "    </tr>\n",
       "  </thead>\n",
       "  <tbody>\n",
       "    <tr>\n",
       "      <th>0</th>\n",
       "      <td>0.0257</td>\n",
       "      <td>50076.167327</td>\n",
       "      <td>1.796861</td>\n",
       "      <td>5.006723e+18</td>\n",
       "      <td>0.0</td>\n",
       "      <td>L</td>\n",
       "      <td>1.0</td>\n",
       "    </tr>\n",
       "    <tr>\n",
       "      <th>1</th>\n",
       "      <td>0.0258</td>\n",
       "      <td>50372.816198</td>\n",
       "      <td>1.816465</td>\n",
       "      <td>5.024210e+18</td>\n",
       "      <td>0.0</td>\n",
       "      <td>L</td>\n",
       "      <td>1.0</td>\n",
       "    </tr>\n",
       "    <tr>\n",
       "      <th>2</th>\n",
       "      <td>0.0259</td>\n",
       "      <td>50640.227687</td>\n",
       "      <td>2.031274</td>\n",
       "      <td>5.114125e+18</td>\n",
       "      <td>0.0</td>\n",
       "      <td>L</td>\n",
       "      <td>1.0</td>\n",
       "    </tr>\n",
       "    <tr>\n",
       "      <th>3</th>\n",
       "      <td>0.0260</td>\n",
       "      <td>50907.639176</td>\n",
       "      <td>1.894527</td>\n",
       "      <td>5.160487e+18</td>\n",
       "      <td>0.0</td>\n",
       "      <td>L</td>\n",
       "      <td>1.0</td>\n",
       "    </tr>\n",
       "    <tr>\n",
       "      <th>4</th>\n",
       "      <td>0.0261</td>\n",
       "      <td>51078.462437</td>\n",
       "      <td>1.865220</td>\n",
       "      <td>5.162926e+18</td>\n",
       "      <td>0.0</td>\n",
       "      <td>L</td>\n",
       "      <td>1.0</td>\n",
       "    </tr>\n",
       "  </tbody>\n",
       "</table>\n",
       "</div>"
      ],
      "text/plain": [
       "     time            IP        PD           FIR   WP LDH  pulse\n",
       "0  0.0257  50076.167327  1.796861  5.006723e+18  0.0   L    1.0\n",
       "1  0.0258  50372.816198  1.816465  5.024210e+18  0.0   L    1.0\n",
       "2  0.0259  50640.227687  2.031274  5.114125e+18  0.0   L    1.0\n",
       "3  0.0260  50907.639176  1.894527  5.160487e+18  0.0   L    1.0\n",
       "4  0.0261  51078.462437  1.865220  5.162926e+18  0.0   L    1.0"
      ]
     },
     "execution_count": 7,
     "metadata": {},
     "output_type": "execute_result"
    }
   ],
   "source": [
    "df_filter.head()"
   ]
  },
  {
   "cell_type": "code",
   "execution_count": 8,
   "id": "3c615700",
   "metadata": {},
   "outputs": [
    {
     "name": "stdout",
     "output_type": "stream",
     "text": [
      "pulse\n"
     ]
    }
   ],
   "source": [
    "keys = df_filter.keys().to_numpy()\n",
    "number_wrong_data = np.zeros(len(keys) -1 )\n",
    "counter = 0\n",
    "for key in keys[1:]:\n",
    "    number_wrong_data[counter] = (df_filter[key] == 'Ip<Ip_MIN').mean()\n",
    "    counter = counter + 1\n",
    "\n",
    "print(keys[6])"
   ]
  },
  {
   "cell_type": "code",
   "execution_count": 9,
   "id": "8c9a631f",
   "metadata": {},
   "outputs": [
    {
     "name": "stdout",
     "output_type": "stream",
     "text": [
      "[0. 0. 0. 0. 0. 0.]\n",
      "['IP' 'PD' 'FIR' 'WP' 'LDH' 'pulse']\n"
     ]
    },
    {
     "data": {
      "text/html": [
       "<div>\n",
       "<style scoped>\n",
       "    .dataframe tbody tr th:only-of-type {\n",
       "        vertical-align: middle;\n",
       "    }\n",
       "\n",
       "    .dataframe tbody tr th {\n",
       "        vertical-align: top;\n",
       "    }\n",
       "\n",
       "    .dataframe thead th {\n",
       "        text-align: right;\n",
       "    }\n",
       "</style>\n",
       "<table border=\"1\" class=\"dataframe\">\n",
       "  <thead>\n",
       "    <tr style=\"text-align: right;\">\n",
       "      <th></th>\n",
       "      <th>time</th>\n",
       "      <th>IP</th>\n",
       "      <th>PD</th>\n",
       "      <th>FIR</th>\n",
       "      <th>WP</th>\n",
       "      <th>LDH</th>\n",
       "      <th>pulse</th>\n",
       "    </tr>\n",
       "  </thead>\n",
       "  <tbody>\n",
       "    <tr>\n",
       "      <th>0</th>\n",
       "      <td>0.0257</td>\n",
       "      <td>50076.167327</td>\n",
       "      <td>1.796861</td>\n",
       "      <td>5.006723e+18</td>\n",
       "      <td>0.0</td>\n",
       "      <td>L</td>\n",
       "      <td>1.0</td>\n",
       "    </tr>\n",
       "    <tr>\n",
       "      <th>1</th>\n",
       "      <td>0.0258</td>\n",
       "      <td>50372.816198</td>\n",
       "      <td>1.816465</td>\n",
       "      <td>5.024210e+18</td>\n",
       "      <td>0.0</td>\n",
       "      <td>L</td>\n",
       "      <td>1.0</td>\n",
       "    </tr>\n",
       "    <tr>\n",
       "      <th>2</th>\n",
       "      <td>0.0259</td>\n",
       "      <td>50640.227687</td>\n",
       "      <td>2.031274</td>\n",
       "      <td>5.114125e+18</td>\n",
       "      <td>0.0</td>\n",
       "      <td>L</td>\n",
       "      <td>1.0</td>\n",
       "    </tr>\n",
       "    <tr>\n",
       "      <th>3</th>\n",
       "      <td>0.0260</td>\n",
       "      <td>50907.639176</td>\n",
       "      <td>1.894527</td>\n",
       "      <td>5.160487e+18</td>\n",
       "      <td>0.0</td>\n",
       "      <td>L</td>\n",
       "      <td>1.0</td>\n",
       "    </tr>\n",
       "    <tr>\n",
       "      <th>4</th>\n",
       "      <td>0.0261</td>\n",
       "      <td>51078.462437</td>\n",
       "      <td>1.865220</td>\n",
       "      <td>5.162926e+18</td>\n",
       "      <td>0.0</td>\n",
       "      <td>L</td>\n",
       "      <td>1.0</td>\n",
       "    </tr>\n",
       "  </tbody>\n",
       "</table>\n",
       "</div>"
      ],
      "text/plain": [
       "     time            IP        PD           FIR   WP LDH  pulse\n",
       "0  0.0257  50076.167327  1.796861  5.006723e+18  0.0   L    1.0\n",
       "1  0.0258  50372.816198  1.816465  5.024210e+18  0.0   L    1.0\n",
       "2  0.0259  50640.227687  2.031274  5.114125e+18  0.0   L    1.0\n",
       "3  0.0260  50907.639176  1.894527  5.160487e+18  0.0   L    1.0\n",
       "4  0.0261  51078.462437  1.865220  5.162926e+18  0.0   L    1.0"
      ]
     },
     "execution_count": 9,
     "metadata": {},
     "output_type": "execute_result"
    }
   ],
   "source": [
    "print(number_wrong_data)\n",
    "print(keys[1:])\n",
    "df_filter.head()"
   ]
  },
  {
   "cell_type": "code",
   "execution_count": 10,
   "id": "40759551",
   "metadata": {},
   "outputs": [
    {
     "data": {
      "text/plain": [
       "0.0"
      ]
     },
     "execution_count": 10,
     "metadata": {},
     "output_type": "execute_result"
    }
   ],
   "source": [
    "df_filter['LDH'].values\n",
    "(df_filter['LDH'] == 'Ip<Ip_MIN').mean() # to test Ip<Ip_MIN is actually dropped"
   ]
  },
  {
   "cell_type": "code",
   "execution_count": 11,
   "id": "46bc93a8",
   "metadata": {},
   "outputs": [
    {
     "data": {
      "text/plain": [
       "['L', 'L', 'L', 'L', 'L', ..., 'L', 'L', 'L', 'L', 'L']\n",
       "Length: 2558179\n",
       "Categories (4, object): ['Ip<Ip_MIN' < 'L' < 'D' < 'H']"
      ]
     },
     "execution_count": 11,
     "metadata": {},
     "output_type": "execute_result"
    }
   ],
   "source": [
    "df_filter.keys()\n",
    "df_filter['LDH'].values.dropna()"
   ]
  },
  {
   "cell_type": "code",
   "execution_count": 16,
   "id": "c12c05be",
   "metadata": {},
   "outputs": [
    {
     "data": {
      "text/plain": [
       "25591.0"
      ]
     },
     "execution_count": 16,
     "metadata": {},
     "output_type": "execute_result"
    }
   ],
   "source": [
    "len(df_filter.index)*0.01"
   ]
  },
  {
   "cell_type": "code",
   "execution_count": 17,
   "id": "e664d96f",
   "metadata": {},
   "outputs": [],
   "source": [
    "## this plot is really time-consuming\n",
    "\n",
    "#percent_data_plots = 0.01\n",
    "#number_rows = len(df_filter.index)\n",
    "#sample_size = int( number_rows * percent_data_plots )\n",
    "#sample = df_filter.sample(10000) # data sample picked at random\n",
    "#sns.pairplot(sample, diag_kind='kde',hue = 'LDH', markers=[\"D\", \"o\", \"o\", \"o\"])"
   ]
  },
  {
   "cell_type": "code",
   "execution_count": 18,
   "id": "0d567c43",
   "metadata": {},
   "outputs": [
    {
     "ename": "NameError",
     "evalue": "name 'sample_size' is not defined",
     "output_type": "error",
     "traceback": [
      "\u001b[0;31m---------------------------------------------------------------------------\u001b[0m",
      "\u001b[0;31mNameError\u001b[0m                                 Traceback (most recent call last)",
      "\u001b[0;32m/tmp/ipykernel_14221/1163276354.py\u001b[0m in \u001b[0;36m<module>\u001b[0;34m\u001b[0m\n\u001b[0;32m----> 1\u001b[0;31m \u001b[0mprint\u001b[0m\u001b[0;34m(\u001b[0m\u001b[0msample_size\u001b[0m\u001b[0;34m)\u001b[0m\u001b[0;34m\u001b[0m\u001b[0;34m\u001b[0m\u001b[0m\n\u001b[0m\u001b[1;32m      2\u001b[0m \u001b[0mprint\u001b[0m\u001b[0;34m(\u001b[0m\u001b[0msample\u001b[0m\u001b[0;34m[\u001b[0m\u001b[0;34m'LDH'\u001b[0m\u001b[0;34m]\u001b[0m\u001b[0;34m.\u001b[0m\u001b[0mvalues\u001b[0m\u001b[0;34m)\u001b[0m\u001b[0;34m\u001b[0m\u001b[0;34m\u001b[0m\u001b[0m\n\u001b[1;32m      3\u001b[0m \u001b[0;31m#variable = 'FIR'\u001b[0m\u001b[0;34m\u001b[0m\u001b[0;34m\u001b[0m\u001b[0m\n\u001b[1;32m      4\u001b[0m \u001b[0;31m#sns.relplot(x = variable, y = 'LDH', hue = 'LDH', data = df_filter) # relational plot\u001b[0m\u001b[0;34m\u001b[0m\u001b[0;34m\u001b[0m\u001b[0m\n",
      "\u001b[0;31mNameError\u001b[0m: name 'sample_size' is not defined"
     ]
    }
   ],
   "source": [
    "print(sample_size)\n",
    "print(sample['LDH'].values)\n",
    "#variable = 'FIR'\n",
    "#sns.relplot(x = variable, y = 'LDH', hue = 'LDH', data = df_filter) # relational plot"
   ]
  },
  {
   "cell_type": "code",
   "execution_count": 19,
   "id": "21037b79",
   "metadata": {},
   "outputs": [
    {
     "data": {
      "text/plain": [
       "[None, None, None, None, None, None, None, None, None, None, None, None]"
      ]
     },
     "execution_count": 19,
     "metadata": {},
     "output_type": "execute_result"
    },
    {
     "data": {
      "image/png": "[encoded data removed]",
      "text/plain": [
       "<Figure size 648x576 with 2 Axes>"
      ]
     },
     "metadata": {},
     "output_type": "display_data"
    },
    {
     "data": {
      "image/png": "[encoded data removed]",
      "text/plain": [
       "<Figure size 720x720 with 4 Axes>"
      ]
     },
     "metadata": {},
     "output_type": "display_data"
    }
   ],
   "source": [
    "# correlation matrices\n",
    "\n",
    "corrmat = df_filter.corr()\n",
    "f, ax = plt.subplots(figsize =(9, 8))\n",
    "sns.heatmap(corrmat, ax = ax, cmap =\"YlGnBu\", linewidths = 0.1)\n",
    "cg = sns.clustermap(corrmat, cmap =\"YlGnBu\", linewidths = 0.1);\n",
    "plt.setp(cg.ax_heatmap.yaxis.get_majorticklabels(), rotation = 0)"
   ]
  },
  {
   "cell_type": "code",
   "execution_count": 21,
   "id": "6c91dd5a",
   "metadata": {},
   "outputs": [
    {
     "ename": "SyntaxError",
     "evalue": "invalid syntax (634794734.py, line 2)",
     "output_type": "error",
     "traceback": [
      "\u001b[0;36m  File \u001b[0;32m\"/tmp/ipykernel_14221/634794734.py\"\u001b[0;36m, line \u001b[0;32m2\u001b[0m\n\u001b[0;31m    df_filter_number_labels =\u001b[0m\n\u001b[0m                              ^\u001b[0m\n\u001b[0;31mSyntaxError\u001b[0m\u001b[0;31m:\u001b[0m invalid syntax\n"
     ]
    }
   ],
   "source": [
    "# plot of each feature vs labels\n",
    "df_filter_number_labels = \n",
    "ax1 = df_filter.plot.scatter(x='LDH', y='PD', c='DarkBlue')\n",
    "\n",
    "#plt.plot(df_filter['LDH'], ls = 'none', marker = 'x')"
   ]
  },
  {
   "cell_type": "code",
   "execution_count": 22,
   "id": "5de1904d",
   "metadata": {},
   "outputs": [
    {
     "data": {
      "text/plain": [
       "Index(['time', 'IP', 'PD', 'FIR', 'WP', 'LDH', 'pulse'], dtype='object')"
      ]
     },
     "execution_count": 22,
     "metadata": {},
     "output_type": "execute_result"
    }
   ],
   "source": [
    "df_filter.keys()"
   ]
  },
  {
   "cell_type": "code",
   "execution_count": 23,
   "id": "dd191933",
   "metadata": {},
   "outputs": [],
   "source": [
    "features = df_filter.keys().to_numpy()\n",
    "mask_features = features != 'LDH'\n",
    "features = features[mask_features]"
   ]
  },
  {
   "cell_type": "code",
   "execution_count": 24,
   "id": "33cb9491",
   "metadata": {},
   "outputs": [
    {
     "name": "stdout",
     "output_type": "stream",
     "text": [
      "['time' 'IP' 'PD' 'FIR' 'WP' 'LDH' 'pulse']\n",
      "['IP' 'PD' 'FIR' 'pulse']\n"
     ]
    }
   ],
   "source": [
    "### PCA computation\n",
    "features = df_filter.keys().to_numpy()\n",
    "# ['time' 'IP' 'PD' 'FIR' 'WP' 'LDH' 'pulse']\n",
    "print(features)\n",
    "mask = np.array([False, True, True, True, False, False, True ])\n",
    "print(features[mask])"
   ]
  },
  {
   "cell_type": "code",
   "execution_count": 25,
   "id": "e64976b5",
   "metadata": {},
   "outputs": [
    {
     "name": "stdout",
     "output_type": "stream",
     "text": [
      "features in PCA computation ['IP' 'PD' 'FIR' 'pulse']\n",
      "(2559100, 4)\n",
      "(2559100, 1)\n"
     ]
    }
   ],
   "source": [
    "from sklearn.decomposition import PCA\n",
    "from sklearn.preprocessing import StandardScaler\n",
    "from mpl_toolkits.mplot3d import Axes3D\n",
    "\n",
    "# features \n",
    "features = df_filter.keys().to_numpy()\n",
    "#mask_features_1 = features != 'LDH'\n",
    "# we remove time, WP, and LDH \n",
    "mask_features = np.array([False, True, True, True, False, False, True ])\n",
    "\n",
    "features = features[mask_features]\n",
    "print('features in PCA computation', features)\n",
    "\n",
    "#separate features\n",
    "x = df_filter.loc[:, features].values\n",
    "y = df_filter.loc[:,['LDH']].values\n",
    "x = StandardScaler().fit_transform(x) # Standardizing the features\n",
    "print(x.shape) # dimension of features\n",
    "print(y.shape) # dimension of labels"
   ]
  },
  {
   "cell_type": "code",
   "execution_count": 26,
   "id": "2c5f96a3",
   "metadata": {},
   "outputs": [],
   "source": [
    "pca = PCA(n_components=2)\n",
    "principalComponents = pca.fit_transform(x)\n",
    "principalDf = pd.DataFrame(data = principalComponents, columns = ['principal component 1', 'principal component 2'])\n",
    "\n",
    "finalDf = pd.concat([principalDf, df_filter[['LDH']]], axis = 1)"
   ]
  },
  {
   "cell_type": "code",
   "execution_count": 27,
   "id": "f1a6a789",
   "metadata": {},
   "outputs": [
    {
     "data": {
      "text/html": [
       "<div>\n",
       "<style scoped>\n",
       "    .dataframe tbody tr th:only-of-type {\n",
       "        vertical-align: middle;\n",
       "    }\n",
       "\n",
       "    .dataframe tbody tr th {\n",
       "        vertical-align: top;\n",
       "    }\n",
       "\n",
       "    .dataframe thead th {\n",
       "        text-align: right;\n",
       "    }\n",
       "</style>\n",
       "<table border=\"1\" class=\"dataframe\">\n",
       "  <thead>\n",
       "    <tr style=\"text-align: right;\">\n",
       "      <th></th>\n",
       "      <th>principal component 1</th>\n",
       "      <th>principal component 2</th>\n",
       "      <th>LDH</th>\n",
       "    </tr>\n",
       "  </thead>\n",
       "  <tbody>\n",
       "    <tr>\n",
       "      <th>0</th>\n",
       "      <td>-0.366094</td>\n",
       "      <td>-2.791052</td>\n",
       "      <td>L</td>\n",
       "    </tr>\n",
       "    <tr>\n",
       "      <th>1</th>\n",
       "      <td>-0.355866</td>\n",
       "      <td>-2.790413</td>\n",
       "      <td>L</td>\n",
       "    </tr>\n",
       "    <tr>\n",
       "      <th>2</th>\n",
       "      <td>-0.253677</td>\n",
       "      <td>-2.772770</td>\n",
       "      <td>L</td>\n",
       "    </tr>\n",
       "    <tr>\n",
       "      <th>3</th>\n",
       "      <td>-0.313556</td>\n",
       "      <td>-2.783385</td>\n",
       "      <td>L</td>\n",
       "    </tr>\n",
       "    <tr>\n",
       "      <th>4</th>\n",
       "      <td>-0.326491</td>\n",
       "      <td>-2.786345</td>\n",
       "      <td>L</td>\n",
       "    </tr>\n",
       "  </tbody>\n",
       "</table>\n",
       "</div>"
      ],
      "text/plain": [
       "   principal component 1  principal component 2 LDH\n",
       "0              -0.366094              -2.791052   L\n",
       "1              -0.355866              -2.790413   L\n",
       "2              -0.253677              -2.772770   L\n",
       "3              -0.313556              -2.783385   L\n",
       "4              -0.326491              -2.786345   L"
      ]
     },
     "execution_count": 27,
     "metadata": {},
     "output_type": "execute_result"
    }
   ],
   "source": [
    "finalDf.head()"
   ]
  },
  {
   "cell_type": "code",
   "execution_count": 28,
   "id": "a820516f",
   "metadata": {},
   "outputs": [
    {
     "data": {
      "image/png": "[encoded data removed]",
      "text/plain": [
       "<Figure size 720x720 with 1 Axes>"
      ]
     },
     "metadata": {},
     "output_type": "display_data"
    }
   ],
   "source": [
    "# PCA visualialization\n",
    "fig = plt.figure(figsize = (10, 10))\n",
    "ax = fig.add_subplot(1,1,1) \n",
    "ax.set_xlabel('Principal Component 1', fontsize = 12)\n",
    "ax.set_ylabel('Principal Component 2', fontsize = 12)\n",
    "ax.set_title('2 component PCA', fontsize = 15)\n",
    "targets = ['L', 'D', 'H',] # labels to predict\n",
    "colors = ['r', 'g', 'b',]\n",
    "for target, color in zip(targets,colors):\n",
    "    indicesToKeep = finalDf['LDH'] == target\n",
    "    ax.scatter(finalDf.loc[indicesToKeep, 'principal component 1']\n",
    "               , finalDf.loc[indicesToKeep, 'principal component 2']\n",
    "               , c = color\n",
    "               , s = 50)\n",
    "ax.legend(targets)\n",
    "ax.grid()"
   ]
  },
  {
   "cell_type": "code",
   "execution_count": 29,
   "id": "d76e8133",
   "metadata": {},
   "outputs": [
    {
     "data": {
      "text/html": [
       "<div>\n",
       "<style scoped>\n",
       "    .dataframe tbody tr th:only-of-type {\n",
       "        vertical-align: middle;\n",
       "    }\n",
       "\n",
       "    .dataframe tbody tr th {\n",
       "        vertical-align: top;\n",
       "    }\n",
       "\n",
       "    .dataframe thead th {\n",
       "        text-align: right;\n",
       "    }\n",
       "</style>\n",
       "<table border=\"1\" class=\"dataframe\">\n",
       "  <thead>\n",
       "    <tr style=\"text-align: right;\">\n",
       "      <th></th>\n",
       "      <th>time</th>\n",
       "      <th>IP</th>\n",
       "      <th>PD</th>\n",
       "      <th>FIR</th>\n",
       "      <th>WP</th>\n",
       "      <th>LDH</th>\n",
       "      <th>pulse</th>\n",
       "    </tr>\n",
       "  </thead>\n",
       "  <tbody>\n",
       "    <tr>\n",
       "      <th>0</th>\n",
       "      <td>0.0257</td>\n",
       "      <td>50076.167327</td>\n",
       "      <td>1.796861</td>\n",
       "      <td>5.006723e+18</td>\n",
       "      <td>0.0</td>\n",
       "      <td>L</td>\n",
       "      <td>1.0</td>\n",
       "    </tr>\n",
       "    <tr>\n",
       "      <th>1</th>\n",
       "      <td>0.0258</td>\n",
       "      <td>50372.816198</td>\n",
       "      <td>1.816465</td>\n",
       "      <td>5.024210e+18</td>\n",
       "      <td>0.0</td>\n",
       "      <td>L</td>\n",
       "      <td>1.0</td>\n",
       "    </tr>\n",
       "    <tr>\n",
       "      <th>2</th>\n",
       "      <td>0.0259</td>\n",
       "      <td>50640.227687</td>\n",
       "      <td>2.031274</td>\n",
       "      <td>5.114125e+18</td>\n",
       "      <td>0.0</td>\n",
       "      <td>L</td>\n",
       "      <td>1.0</td>\n",
       "    </tr>\n",
       "    <tr>\n",
       "      <th>3</th>\n",
       "      <td>0.0260</td>\n",
       "      <td>50907.639176</td>\n",
       "      <td>1.894527</td>\n",
       "      <td>5.160487e+18</td>\n",
       "      <td>0.0</td>\n",
       "      <td>L</td>\n",
       "      <td>1.0</td>\n",
       "    </tr>\n",
       "    <tr>\n",
       "      <th>4</th>\n",
       "      <td>0.0261</td>\n",
       "      <td>51078.462437</td>\n",
       "      <td>1.865220</td>\n",
       "      <td>5.162926e+18</td>\n",
       "      <td>0.0</td>\n",
       "      <td>L</td>\n",
       "      <td>1.0</td>\n",
       "    </tr>\n",
       "  </tbody>\n",
       "</table>\n",
       "</div>"
      ],
      "text/plain": [
       "     time            IP        PD           FIR   WP LDH  pulse\n",
       "0  0.0257  50076.167327  1.796861  5.006723e+18  0.0   L    1.0\n",
       "1  0.0258  50372.816198  1.816465  5.024210e+18  0.0   L    1.0\n",
       "2  0.0259  50640.227687  2.031274  5.114125e+18  0.0   L    1.0\n",
       "3  0.0260  50907.639176  1.894527  5.160487e+18  0.0   L    1.0\n",
       "4  0.0261  51078.462437  1.865220  5.162926e+18  0.0   L    1.0"
      ]
     },
     "execution_count": 29,
     "metadata": {},
     "output_type": "execute_result"
    }
   ],
   "source": [
    "df_filter.head()"
   ]
  },
  {
   "cell_type": "code",
   "execution_count": 30,
   "id": "1a64368e",
   "metadata": {},
   "outputs": [
    {
     "ename": "AttributeError",
     "evalue": "'Series' object has no attribute 'describeibe'",
     "output_type": "error",
     "traceback": [
      "\u001b[0;31m---------------------------------------------------------------------------\u001b[0m",
      "\u001b[0;31mAttributeError\u001b[0m                            Traceback (most recent call last)",
      "\u001b[0;32m/tmp/ipykernel_14221/2006799752.py\u001b[0m in \u001b[0;36m<module>\u001b[0;34m\u001b[0m\n\u001b[0;32m----> 1\u001b[0;31m \u001b[0mdf_filter\u001b[0m\u001b[0;34m[\u001b[0m\u001b[0;34m'WP'\u001b[0m\u001b[0;34m]\u001b[0m\u001b[0;34m.\u001b[0m\u001b[0mdescribeibe\u001b[0m\u001b[0;34m(\u001b[0m\u001b[0;34m)\u001b[0m\u001b[0;34m\u001b[0m\u001b[0;34m\u001b[0m\u001b[0m\n\u001b[0m",
      "\u001b[0;32m~/anaconda3/lib/python3.9/site-packages/pandas/core/generic.py\u001b[0m in \u001b[0;36m__getattr__\u001b[0;34m(self, name)\u001b[0m\n\u001b[1;32m   5485\u001b[0m         ):\n\u001b[1;32m   5486\u001b[0m             \u001b[0;32mreturn\u001b[0m \u001b[0mself\u001b[0m\u001b[0;34m[\u001b[0m\u001b[0mname\u001b[0m\u001b[0;34m]\u001b[0m\u001b[0;34m\u001b[0m\u001b[0;34m\u001b[0m\u001b[0m\n\u001b[0;32m-> 5487\u001b[0;31m         \u001b[0;32mreturn\u001b[0m \u001b[0mobject\u001b[0m\u001b[0;34m.\u001b[0m\u001b[0m__getattribute__\u001b[0m\u001b[0;34m(\u001b[0m\u001b[0mself\u001b[0m\u001b[0;34m,\u001b[0m \u001b[0mname\u001b[0m\u001b[0;34m)\u001b[0m\u001b[0;34m\u001b[0m\u001b[0;34m\u001b[0m\u001b[0m\n\u001b[0m\u001b[1;32m   5488\u001b[0m \u001b[0;34m\u001b[0m\u001b[0m\n\u001b[1;32m   5489\u001b[0m     \u001b[0;32mdef\u001b[0m \u001b[0m__setattr__\u001b[0m\u001b[0;34m(\u001b[0m\u001b[0mself\u001b[0m\u001b[0;34m,\u001b[0m \u001b[0mname\u001b[0m\u001b[0;34m:\u001b[0m \u001b[0mstr\u001b[0m\u001b[0;34m,\u001b[0m \u001b[0mvalue\u001b[0m\u001b[0;34m)\u001b[0m \u001b[0;34m->\u001b[0m \u001b[0;32mNone\u001b[0m\u001b[0;34m:\u001b[0m\u001b[0;34m\u001b[0m\u001b[0;34m\u001b[0m\u001b[0m\n",
      "\u001b[0;31mAttributeError\u001b[0m: 'Series' object has no attribute 'describeibe'"
     ]
    }
   ],
   "source": [
    "df_filter['WP'].describeibe()"
   ]
  },
  {
   "cell_type": "code",
   "execution_count": 31,
   "id": "5ffb4ffd",
   "metadata": {},
   "outputs": [
    {
     "ename": "ValueError",
     "evalue": "either both or neither of x and y should be given",
     "output_type": "error",
     "traceback": [
      "\u001b[0;31m---------------------------------------------------------------------------\u001b[0m",
      "\u001b[0;31mValueError\u001b[0m                                Traceback (most recent call last)",
      "\u001b[0;32m/tmp/ipykernel_12405/4061504686.py\u001b[0m in \u001b[0;36m<module>\u001b[0;34m\u001b[0m\n\u001b[1;32m      1\u001b[0m \u001b[0mdata_frame\u001b[0m \u001b[0;34m=\u001b[0m \u001b[0mdf_filter\u001b[0m\u001b[0;34m.\u001b[0m\u001b[0mcopy\u001b[0m\u001b[0;34m(\u001b[0m\u001b[0;34m)\u001b[0m\u001b[0;34m\u001b[0m\u001b[0;34m\u001b[0m\u001b[0m\n\u001b[0;32m----> 2\u001b[0;31m \u001b[0mdata_frame\u001b[0m\u001b[0;34m[\u001b[0m\u001b[0;34m'LDH'\u001b[0m\u001b[0;34m]\u001b[0m \u001b[0;34m=\u001b[0m \u001b[0mnp\u001b[0m\u001b[0;34m.\u001b[0m\u001b[0mwhere\u001b[0m\u001b[0;34m(\u001b[0m\u001b[0mdata_frame\u001b[0m\u001b[0;34m[\u001b[0m\u001b[0;34m'LDH'\u001b[0m\u001b[0;34m]\u001b[0m \u001b[0;34m==\u001b[0m \u001b[0;34m'L'\u001b[0m\u001b[0;34m,\u001b[0m \u001b[0;36m0\u001b[0m\u001b[0;34m)\u001b[0m\u001b[0;34m\u001b[0m\u001b[0;34m\u001b[0m\u001b[0m\n\u001b[0m",
      "\u001b[0;32m<__array_function__ internals>\u001b[0m in \u001b[0;36mwhere\u001b[0;34m(*args, **kwargs)\u001b[0m\n",
      "\u001b[0;31mValueError\u001b[0m: either both or neither of x and y should be given"
     ]
    }
   ],
   "source": [
    "data_frame = df_filter.copy()\n",
    "data_frame['LDH'] = np.where(data_frame['LDH'] == 'L', 0)"
   ]
  },
  {
   "cell_type": "code",
   "execution_count": 29,
   "id": "ae927343",
   "metadata": {},
   "outputs": [
    {
     "data": {
      "text/html": [
       "<div>\n",
       "<style scoped>\n",
       "    .dataframe tbody tr th:only-of-type {\n",
       "        vertical-align: middle;\n",
       "    }\n",
       "\n",
       "    .dataframe tbody tr th {\n",
       "        vertical-align: top;\n",
       "    }\n",
       "\n",
       "    .dataframe thead th {\n",
       "        text-align: right;\n",
       "    }\n",
       "</style>\n",
       "<table border=\"1\" class=\"dataframe\">\n",
       "  <thead>\n",
       "    <tr style=\"text-align: right;\">\n",
       "      <th></th>\n",
       "      <th>time</th>\n",
       "      <th>IP</th>\n",
       "      <th>PD</th>\n",
       "      <th>FIR</th>\n",
       "      <th>WP</th>\n",
       "      <th>LDH</th>\n",
       "      <th>pulse</th>\n",
       "    </tr>\n",
       "  </thead>\n",
       "  <tbody>\n",
       "    <tr>\n",
       "      <th>0</th>\n",
       "      <td>0.0257</td>\n",
       "      <td>50076.167327</td>\n",
       "      <td>1.796861</td>\n",
       "      <td>5.006723e+18</td>\n",
       "      <td>0.0</td>\n",
       "      <td>L</td>\n",
       "      <td>1.0</td>\n",
       "    </tr>\n",
       "    <tr>\n",
       "      <th>1</th>\n",
       "      <td>0.0258</td>\n",
       "      <td>50372.816198</td>\n",
       "      <td>1.816465</td>\n",
       "      <td>5.024210e+18</td>\n",
       "      <td>0.0</td>\n",
       "      <td>L</td>\n",
       "      <td>1.0</td>\n",
       "    </tr>\n",
       "    <tr>\n",
       "      <th>2</th>\n",
       "      <td>0.0259</td>\n",
       "      <td>50640.227687</td>\n",
       "      <td>2.031274</td>\n",
       "      <td>5.114125e+18</td>\n",
       "      <td>0.0</td>\n",
       "      <td>L</td>\n",
       "      <td>1.0</td>\n",
       "    </tr>\n",
       "    <tr>\n",
       "      <th>3</th>\n",
       "      <td>0.0260</td>\n",
       "      <td>50907.639176</td>\n",
       "      <td>1.894527</td>\n",
       "      <td>5.160487e+18</td>\n",
       "      <td>0.0</td>\n",
       "      <td>L</td>\n",
       "      <td>1.0</td>\n",
       "    </tr>\n",
       "    <tr>\n",
       "      <th>4</th>\n",
       "      <td>0.0261</td>\n",
       "      <td>51078.462437</td>\n",
       "      <td>1.865220</td>\n",
       "      <td>5.162926e+18</td>\n",
       "      <td>0.0</td>\n",
       "      <td>L</td>\n",
       "      <td>1.0</td>\n",
       "    </tr>\n",
       "  </tbody>\n",
       "</table>\n",
       "</div>"
      ],
      "text/plain": [
       "     time            IP        PD           FIR   WP LDH  pulse\n",
       "0  0.0257  50076.167327  1.796861  5.006723e+18  0.0   L    1.0\n",
       "1  0.0258  50372.816198  1.816465  5.024210e+18  0.0   L    1.0\n",
       "2  0.0259  50640.227687  2.031274  5.114125e+18  0.0   L    1.0\n",
       "3  0.0260  50907.639176  1.894527  5.160487e+18  0.0   L    1.0\n",
       "4  0.0261  51078.462437  1.865220  5.162926e+18  0.0   L    1.0"
      ]
     },
     "execution_count": 29,
     "metadata": {},
     "output_type": "execute_result"
    }
   ],
   "source": [
    "data_frame.head()"
   ]
  },
  {
   "cell_type": "code",
   "execution_count": null,
   "id": "8d7e7efa",
   "metadata": {},
   "outputs": [],
   "source": []
  }
 ],
 "metadata": {
  "kernelspec": {
   "display_name": "Python 3 (ipykernel)",
   "language": "python",
   "name": "python3"
  },
  "language_info": {
   "codemirror_mode": {
    "name": "ipython",
    "version": 3
   },
   "file_extension": ".py",
   "mimetype": "text/x-python",
   "name": "python",
   "nbconvert_exporter": "python",
   "pygments_lexer": "ipython3",
   "version": "3.9.7"
  }
 },
 "nbformat": 4,
 "nbformat_minor": 5
}
