{
 "cells": [
  {
   "cell_type": "code",
   "execution_count": 57,
   "id": "5f947a8f",
   "metadata": {},
   "outputs": [
    {
     "name": "stdout",
     "output_type": "stream",
     "text": [
      "The autoreload extension is already loaded. To reload it, use:\n",
      "  %reload_ext autoreload\n"
     ]
    }
   ],
   "source": [
    "# Useful starting lines\n",
    "%matplotlib inline\n",
    "import numpy as np\n",
    "import matplotlib.pyplot as plt\n",
    "import pandas as pd\n",
    "import seaborn as sns\n",
    "from sklearn.metrics import cohen_kappa_score\n",
    "\n",
    "\n",
    "\n",
    "%load_ext autoreload\n",
    "%autoreload 2\n",
    "\n",
    "sns.set()\n",
    "\n",
    "parquet_file = 'TCV_LHD_db4ML.parquet.part'\n",
    "df = pd.read_parquet(parquet_file, engine ='auto')"
   ]
  },
  {
   "cell_type": "code",
   "execution_count": 65,
   "id": "07198373",
   "metadata": {},
   "outputs": [],
   "source": [
    "#import sklearn as skl\n",
    "#from sklearn import metrics"
   ]
  },
  {
   "cell_type": "code",
   "execution_count": 59,
   "id": "172ab771",
   "metadata": {},
   "outputs": [],
   "source": [
    "df['L'] = np.random.rand(len(df))\n",
    "df['D'] = np.random.rand(len(df))\n",
    "df['H'] = np.random.rand(len(df))"
   ]
  },
  {
   "cell_type": "code",
   "execution_count": 58,
   "id": "165e4df8",
   "metadata": {
    "scrolled": true
   },
   "outputs": [
    {
     "data": {
      "text/html": [
       "<div>\n",
       "<style scoped>\n",
       "    .dataframe tbody tr th:only-of-type {\n",
       "        vertical-align: middle;\n",
       "    }\n",
       "\n",
       "    .dataframe tbody tr th {\n",
       "        vertical-align: top;\n",
       "    }\n",
       "\n",
       "    .dataframe thead th {\n",
       "        text-align: right;\n",
       "    }\n",
       "</style>\n",
       "<table border=\"1\" class=\"dataframe\">\n",
       "  <thead>\n",
       "    <tr style=\"text-align: right;\">\n",
       "      <th></th>\n",
       "      <th>time</th>\n",
       "      <th>IP</th>\n",
       "      <th>PD</th>\n",
       "      <th>FIR</th>\n",
       "      <th>WP</th>\n",
       "      <th>LDH</th>\n",
       "      <th>pulse</th>\n",
       "    </tr>\n",
       "  </thead>\n",
       "  <tbody>\n",
       "    <tr>\n",
       "      <th>0</th>\n",
       "      <td>0.0206</td>\n",
       "      <td>30409.787109</td>\n",
       "      <td>1.816398</td>\n",
       "      <td>4.077222e+18</td>\n",
       "      <td>0.0</td>\n",
       "      <td>Ip&lt;Ip_MIN</td>\n",
       "      <td>1.0</td>\n",
       "    </tr>\n",
       "    <tr>\n",
       "      <th>1</th>\n",
       "      <td>0.0207</td>\n",
       "      <td>30882.741994</td>\n",
       "      <td>1.992211</td>\n",
       "      <td>4.092746e+18</td>\n",
       "      <td>0.0</td>\n",
       "      <td>Ip&lt;Ip_MIN</td>\n",
       "      <td>1.0</td>\n",
       "    </tr>\n",
       "    <tr>\n",
       "      <th>2</th>\n",
       "      <td>0.0208</td>\n",
       "      <td>31355.696879</td>\n",
       "      <td>2.016582</td>\n",
       "      <td>4.116485e+18</td>\n",
       "      <td>0.0</td>\n",
       "      <td>Ip&lt;Ip_MIN</td>\n",
       "      <td>1.0</td>\n",
       "    </tr>\n",
       "    <tr>\n",
       "      <th>3</th>\n",
       "      <td>0.0209</td>\n",
       "      <td>31856.508747</td>\n",
       "      <td>1.943354</td>\n",
       "      <td>4.101001e+18</td>\n",
       "      <td>0.0</td>\n",
       "      <td>Ip&lt;Ip_MIN</td>\n",
       "      <td>1.0</td>\n",
       "    </tr>\n",
       "    <tr>\n",
       "      <th>4</th>\n",
       "      <td>0.0210</td>\n",
       "      <td>32357.321558</td>\n",
       "      <td>1.860389</td>\n",
       "      <td>4.185470e+18</td>\n",
       "      <td>0.0</td>\n",
       "      <td>Ip&lt;Ip_MIN</td>\n",
       "      <td>1.0</td>\n",
       "    </tr>\n",
       "  </tbody>\n",
       "</table>\n",
       "</div>"
      ],
      "text/plain": [
       "     time            IP        PD           FIR   WP        LDH  pulse\n",
       "0  0.0206  30409.787109  1.816398  4.077222e+18  0.0  Ip<Ip_MIN    1.0\n",
       "1  0.0207  30882.741994  1.992211  4.092746e+18  0.0  Ip<Ip_MIN    1.0\n",
       "2  0.0208  31355.696879  2.016582  4.116485e+18  0.0  Ip<Ip_MIN    1.0\n",
       "3  0.0209  31856.508747  1.943354  4.101001e+18  0.0  Ip<Ip_MIN    1.0\n",
       "4  0.0210  32357.321558  1.860389  4.185470e+18  0.0  Ip<Ip_MIN    1.0"
      ]
     },
     "execution_count": 58,
     "metadata": {},
     "output_type": "execute_result"
    }
   ],
   "source": [
    "df.head()"
   ]
  },
  {
   "cell_type": "code",
   "execution_count": 60,
   "id": "a6f85caa",
   "metadata": {},
   "outputs": [],
   "source": [
    "def probability_to_category(prediction):\n",
    "    prediction['prediction'] = prediction[['H','L','D']].idxmax(axis=1)"
   ]
  },
  {
   "cell_type": "code",
   "execution_count": 67,
   "id": "136d9d8c",
   "metadata": {},
   "outputs": [],
   "source": [
    "#Cohen's kappa coefficient (κ) is a statistic that measures inter-rater reliability for categorical sets\n",
    "\n",
    "def cohen_kappa(df):\n",
    "    return cohen_kappa_score(df['prediction'], df['target'])\n",
    " "
   ]
  },
  {
   "cell_type": "code",
   "execution_count": 90,
   "id": "ea277140",
   "metadata": {},
   "outputs": [
    {
     "data": {
      "text/plain": [
       "0.0"
      ]
     },
     "execution_count": 90,
     "metadata": {},
     "output_type": "execute_result"
    }
   ],
   "source": [
    "cohen_kappa(df)"
   ]
  },
  {
   "cell_type": "code",
   "execution_count": 88,
   "id": "197ef216",
   "metadata": {},
   "outputs": [],
   "source": [
    "#Percentage of concordance between prediction and target\n",
    "\n",
    "def correct_prediciton_rate(df):\n",
    "    concordance = df['prediction'] == df['target']\n",
    "    return 100*concordance.sum() / len(concordance)\n",
    " "
   ]
  },
  {
   "cell_type": "code",
   "execution_count": 89,
   "id": "22b97c93",
   "metadata": {},
   "outputs": [
    {
     "data": {
      "text/plain": [
       "0.3333556365182409"
      ]
     },
     "execution_count": 89,
     "metadata": {},
     "output_type": "execute_result"
    }
   ],
   "source": [
    "correct_prediciton_rate(df)"
   ]
  }
 ],
 "metadata": {
  "kernelspec": {
   "display_name": "Python 3 (ipykernel)",
   "language": "python",
   "name": "python3"
  },
  "language_info": {
   "codemirror_mode": {
    "name": "ipython",
    "version": 3
   },
   "file_extension": ".py",
   "mimetype": "text/x-python",
   "name": "python",
   "nbconvert_exporter": "python",
   "pygments_lexer": "ipython3",
   "version": "3.9.7"
  }
 },
 "nbformat": 4,
 "nbformat_minor": 5
}
