{
 "cells": [
  {
   "cell_type": "code",
   "execution_count": null,
   "id": "93d71640",
   "metadata": {},
   "outputs": [],
   "source": [
    "# Useful starting lines\n",
    "%matplotlib inline\n",
    "import numpy as np\n",
    "import matplotlib.pyplot as plt\n",
    "import pandas as pd\n",
    "import seaborn as sns\n",
    "import torch\n",
    "\n",
    "%load_ext autoreload\n",
    "%autoreload 2\n",
    "\n",
    "sns.set()"
   ]
  },
  {
   "cell_type": "code",
   "execution_count": null,
   "id": "62b57ad1",
   "metadata": {},
   "outputs": [],
   "source": [
    "parquet_file = 'TCV_LHD_db4ML.parquet.part'\n",
    "df = pd.read_parquet(parquet_file, engine ='auto')"
   ]
  },
  {
   "cell_type": "code",
   "execution_count": null,
   "id": "120fc9ea",
   "metadata": {},
   "outputs": [],
   "source": [
    "print(df.head())\n",
    "print('----------oooo0000oooo----------')\n",
    "print(df.info())"
   ]
  },
  {
   "cell_type": "code",
   "execution_count": null,
   "id": "46355876",
   "metadata": {},
   "outputs": [],
   "source": [
    "df.describe()"
   ]
  },
  {
   "cell_type": "code",
   "execution_count": null,
   "id": "a5603f1e",
   "metadata": {},
   "outputs": [],
   "source": [
    "df['LDH'].values.describe() # values in column LDH"
   ]
  },
  {
   "cell_type": "code",
   "execution_count": null,
   "id": "ba68029d",
   "metadata": {},
   "outputs": [],
   "source": [
    "#df.dropna(inplace=True)\n",
    "#df.drop(df[df['LDH']  == 'Ip<Ip_MIN'].index, inplace = True)\n",
    "#df_filter = df[ df['LDH'] != 'Ip<Ip_MIN']\n",
    "\n",
    "mask = df['LDH'] == 'Ip<Ip_MIN'\n",
    "df_filter = df.drop(index = df[mask].index) #remove Ip<Ip_MIN values \n",
    "\n",
    "df_filter = df_filter.dropna() #remove Nan values\n",
    "df_filter = df_filter.reset_index(drop=True) #reset indexing\n",
    "df_filter.LDH = df_filter.LDH.cat.remove_categories('Ip<Ip_MIN') #remove Ip<Ip_MIN category\n",
    "\n",
    "discard_data = len(df.index) - len(df_filter.index) # number of data point that do not contain useful information\n",
    "print('number of useless data points: ', discard_data)\n",
    "print('size of original data set: ', len(df.index))\n",
    "print('size of filtered data set: ', len(df_filter.index))\n",
    "\n",
    "print(len(df_filter.index) + discard_data - len(df.index))\n",
    "\n",
    "print('data statistical description ')\n",
    "df.describe()"
   ]
  },
  {
   "cell_type": "code",
   "execution_count": null,
   "id": "2c7902df",
   "metadata": {},
   "outputs": [],
   "source": [
    "print('values in LDH column') # to make sure removing actually works\n",
    "df_filter['LDH'].values.describe() # values in column LDH"
   ]
  },
  {
   "cell_type": "code",
   "execution_count": null,
   "id": "3c615700",
   "metadata": {},
   "outputs": [],
   "source": [
    "keys = df_filter.keys().to_numpy()\n",
    "number_wrong_data = np.zeros(len(keys) -1 )\n",
    "counter = 0\n",
    "for key in keys[1:]:\n",
    "    number_wrong_data[counter] = (df_filter[key] == 'Ip<Ip_MIN').mean()\n",
    "    counter = counter + 1\n",
    "\n",
    "print(keys[6])"
   ]
  },
  {
   "cell_type": "code",
   "execution_count": null,
   "id": "8c9a631f",
   "metadata": {},
   "outputs": [],
   "source": [
    "print(number_wrong_data)\n",
    "print(keys[1:])\n",
    "df_filter.head()"
   ]
  },
  {
   "cell_type": "code",
   "execution_count": null,
   "id": "40759551",
   "metadata": {},
   "outputs": [],
   "source": [
    "df_filter['LDH'].values\n",
    "(df_filter['LDH'] == 'Ip<Ip_MIN').mean() # to test Ip<Ip_MIN is actually dropped"
   ]
  },
  {
   "cell_type": "code",
   "execution_count": null,
   "id": "e664d96f",
   "metadata": {},
   "outputs": [],
   "source": [
    "## this plot is really time-consuming\n",
    "\n",
    "percent_data_plots = 0.01\n",
    "number_rows = len(df_filter.index)\n",
    "sample_size = int( number_rows * percent_data_plots )\n",
    "sample = df_filter.sample(10000) # data sample picked at random\n",
    "print(sample_size)\n",
    "print(sample['LDH'].values)\n",
    "#sns.pairplot(sample, diag_kind='kde',hue = 'LDH', markers=[\"D\", \"o\", \"o\", \"o\"])"
   ]
  },
  {
   "cell_type": "code",
   "execution_count": null,
   "id": "21037b79",
   "metadata": {},
   "outputs": [],
   "source": [
    "# correlation matrices\n",
    "\n",
    "corrmat = df_filter.corr()\n",
    "f, ax = plt.subplots(figsize =(9, 8))\n",
    "sns.heatmap(corrmat, ax = ax, cmap =\"YlGnBu\", linewidths = 0.1)\n",
    "cg = sns.clustermap(corrmat, cmap =\"YlGnBu\", linewidths = 0.1);\n",
    "plt.setp(cg.ax_heatmap.yaxis.get_majorticklabels(), rotation = 0)"
   ]
  },
  {
   "cell_type": "code",
   "execution_count": null,
   "id": "6c91dd5a",
   "metadata": {
    "scrolled": false
   },
   "outputs": [],
   "source": [
    "# plot of each feature vs labels\n",
    "ax1 = df_filter.plot.scatter(x='LDH', y='PD', c='DarkBlue')\n",
    "\n",
    "#plt.plot(df_filter['LDH'], ls = 'none', marker = 'x')"
   ]
  },
  {
   "cell_type": "code",
   "execution_count": null,
   "id": "5de1904d",
   "metadata": {},
   "outputs": [],
   "source": [
    "df_filter.head(20)"
   ]
  },
  {
   "cell_type": "code",
   "execution_count": null,
   "id": "dd191933",
   "metadata": {},
   "outputs": [],
   "source": [
    "# testing of functions. This can deleted\n",
    "features = df_filter.keys().to_numpy()\n",
    "mask_features = features != 'LDH'\n",
    "features = features[mask_features]"
   ]
  },
  {
   "cell_type": "code",
   "execution_count": null,
   "id": "33cb9491",
   "metadata": {},
   "outputs": [],
   "source": [
    "### PCA computation\n",
    "features = df_filter.keys().to_numpy()\n",
    "# ['time' 'IP' 'PD' 'FIR' 'WP' 'LDH' 'pulse']\n",
    "print(features)\n",
    "mask = np.array([False, True, True, True, False, False, True ])\n",
    "print(features[mask])"
   ]
  },
  {
   "cell_type": "code",
   "execution_count": null,
   "id": "e64976b5",
   "metadata": {},
   "outputs": [],
   "source": [
    "from sklearn.decomposition import PCA\n",
    "from sklearn.preprocessing import StandardScaler\n",
    "from mpl_toolkits.mplot3d import Axes3D\n",
    "\n",
    "# features \n",
    "features = df_filter.keys().to_numpy()\n",
    "#mask_features_1 = features != 'LDH'\n",
    "# we remove time, WP, and LDH \n",
    "mask_features = np.array([False, True, True, True, False, False, True ])\n",
    "\n",
    "features = features[mask_features]\n",
    "print('features in PCA computation', features)\n",
    "\n",
    "#separate features\n",
    "x = df_filter.loc[:, features].values\n",
    "y = df_filter.loc[:,['LDH']].values\n",
    "x = StandardScaler().fit_transform(x) # Standardizing the features\n",
    "print(x.shape) # dimension of features\n",
    "print(y.shape) # dimension of labels"
   ]
  },
  {
   "cell_type": "code",
   "execution_count": null,
   "id": "2c5f96a3",
   "metadata": {},
   "outputs": [],
   "source": [
    "pca = PCA(n_components=2)\n",
    "principalComponents = pca.fit_transform(x)\n",
    "principalDf = pd.DataFrame(data = principalComponents, columns = ['principal component 1', 'principal component 2'])\n",
    "\n",
    "finalDf = pd.concat([principalDf, df_filter[['LDH']]], axis = 1)"
   ]
  },
  {
   "cell_type": "code",
   "execution_count": null,
   "id": "f1a6a789",
   "metadata": {},
   "outputs": [],
   "source": [
    "finalDf.head()"
   ]
  },
  {
   "cell_type": "code",
   "execution_count": null,
   "id": "a820516f",
   "metadata": {},
   "outputs": [],
   "source": [
    "# PCA visualialization\n",
    "fig = plt.figure(figsize = (10, 10))\n",
    "ax = fig.add_subplot(1,1,1) \n",
    "ax.set_xlabel('Principal Component 1', fontsize = 12)\n",
    "ax.set_ylabel('Principal Component 2', fontsize = 12)\n",
    "ax.set_title('2 component PCA', fontsize = 15)\n",
    "targets = ['L', 'D', 'H',] # labels to predict\n",
    "colors = ['r', 'g', 'b',]\n",
    "for target, color in zip(targets,colors):\n",
    "    indicesToKeep = finalDf['LDH'] == target\n",
    "    ax.scatter(finalDf.loc[indicesToKeep, 'principal component 1']\n",
    "               , finalDf.loc[indicesToKeep, 'principal component 2']\n",
    "               , c = color\n",
    "               , s = 50)\n",
    "ax.legend(targets)\n",
    "ax.grid()"
   ]
  },
  {
   "cell_type": "code",
   "execution_count": null,
   "id": "d76e8133",
   "metadata": {},
   "outputs": [],
   "source": [
    "# observe values in column WP\n",
    "df_filter['WP'].describe()"
   ]
  },
  {
   "cell_type": "code",
   "execution_count": null,
   "id": "5ffb4ffd",
   "metadata": {},
   "outputs": [],
   "source": [
    "data_frame = df_filter.copy()\n",
    "data_frame['LDH'] = np.where(data_frame['LDH'] == 'L', 0)"
   ]
  },
  {
   "cell_type": "code",
   "execution_count": null,
   "id": "ae927343",
   "metadata": {},
   "outputs": [],
   "source": [
    "### -----------------------------------------------------------\n",
    "### Analysis of data using time column as describe in the paper:\n",
    "### Classification of tokamak plasma confinement states with convolutional\n",
    "### recurrent neural networks"
   ]
  },
  {
   "cell_type": "code",
   "execution_count": null,
   "id": "8d7e7efa",
   "metadata": {},
   "outputs": [],
   "source": [
    "df_filter.head()"
   ]
  },
  {
   "cell_type": "code",
   "execution_count": null,
   "id": "247e2fbe",
   "metadata": {},
   "outputs": [],
   "source": [
    "interval_plot = 1000\n",
    "plt.plot(df_filter.time[:interval_plot:], df_filter.IP[:interval_plot:], ls = '-', lw = 0.80, c = 'k', label ='IP')\n",
    "plt.legend()\n",
    "plt.show()"
   ]
  },
  {
   "cell_type": "code",
   "execution_count": null,
   "id": "373ede0c",
   "metadata": {},
   "outputs": [],
   "source": [
    "# plot of quantities vs time every 100 time steps\n",
    "\n",
    "interval_plot = 100\n",
    "plt.plot(df_filter.time[:interval_plot:], df_filter.IP[:interval_plot:], ls = '-', lw = 0.80, c = 'k', label ='IP')\n",
    "plt.legend()\n",
    "plt.show()\n",
    "\n",
    "plt.plot(df_filter.time[:interval_plot:], df_filter.PD[:interval_plot:], ls = '-', lw = 1, c = 'b', label ='PD')\n",
    "plt.legend()\n",
    "plt.show()\n",
    "\n",
    "plt.plot(df_filter.time[:interval_plot:], df_filter.FIR[:interval_plot:], ls = '-', lw = 1, c = 'red', label ='FIR')\n",
    "plt.legend()\n",
    "plt.show()\n",
    "\n",
    "plt.plot(df_filter.time[:interval_plot:], df_filter.WP[:interval_plot:], ls = '-', lw = 1, c = 'green', label ='WP')\n",
    "plt.legend()\n",
    "plt.show()\n",
    "\n",
    "plt.plot(df_filter.time[:interval_plot:], df_filter.pulse[:interval_plot:], ls = '-', lw = 1, c = 'magenta', label ='pulse')\n",
    "plt.legend()\n",
    "plt.show()"
   ]
  },
  {
   "cell_type": "code",
   "execution_count": null,
   "id": "0a7f1326",
   "metadata": {},
   "outputs": [],
   "source": [
    "# rolling average\n",
    "step_average = 20\n",
    "\n",
    "plt.plot(df_filter.IP.rolling(window = step_average).mean(), ls = '-', lw = 0.80, c = 'k', label ='moving mean IP')\n",
    "plt.legend(loc = 'best')\n",
    "plt.show()\n",
    "\n",
    "plt.plot(df_filter.PD.rolling(window = step_average).mean(), ls = '-', lw = 0.80, c = 'b', label ='moving mean PD')\n",
    "plt.legend(loc = 'best')\n",
    "plt.show()\n",
    "\n",
    "plt.plot(df_filter.FIR.rolling(window = step_average).mean(), ls = '-', lw = 0.80, c = 'red', label ='moving mean FIR')\n",
    "plt.legend(loc = 'best')\n",
    "plt.show()\n",
    "\n",
    "plt.plot(df_filter.WP.rolling(window = step_average).mean(), ls = '-', lw = 0.80, c = 'green', label ='moving mean WP')\n",
    "plt.legend(loc = 'best')\n",
    "plt.show()\n",
    "\n",
    "plt.plot(df_filter.pulse.rolling(window = step_average).mean(), ls = '-', lw = 0.80, c = 'magenta', label ='moving mean pulse')\n",
    "plt.legend(loc = 'best')\n",
    "plt.show()"
   ]
  },
  {
   "cell_type": "code",
   "execution_count": null,
   "id": "ac390699",
   "metadata": {},
   "outputs": [],
   "source": [
    "df_filter.IP.rolling(window = step_average).mean().head(30).T"
   ]
  },
  {
   "cell_type": "code",
   "execution_count": null,
   "id": "976f5bc1",
   "metadata": {},
   "outputs": [],
   "source": [
    "df_filter.IP.head()"
   ]
  }
 ],
 "metadata": {
  "kernelspec": {
   "display_name": "Python 3 (ipykernel)",
   "language": "python",
   "name": "python3"
  },
  "language_info": {
   "codemirror_mode": {
    "name": "ipython",
    "version": 3
   },
   "file_extension": ".py",
   "mimetype": "text/x-python",
   "name": "python",
   "nbconvert_exporter": "python",
   "pygments_lexer": "ipython3",
   "version": "3.9.7"
  }
 },
 "nbformat": 4,
 "nbformat_minor": 5
}
